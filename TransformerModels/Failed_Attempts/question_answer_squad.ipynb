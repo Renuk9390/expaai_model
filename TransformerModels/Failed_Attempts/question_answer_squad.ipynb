{
 "cells": [
  {
   "cell_type": "code",
   "execution_count": 10,
   "metadata": {},
   "outputs": [
    {
     "name": "stdout",
     "output_type": "stream",
     "text": [
      "Answer: 'they allow the possibility of the mouse escaping', score: 0.0693, start: 537, end: 585\n"
     ]
    }
   ],
   "source": [
    "from transformers import pipeline\n",
    "question_answerer = pipeline(\"question-answering\", model='deepset/roberta-base-squad2')\n",
    "\n",
    "context = r\"\"\"\n",
    "Whilst most mousetraps are generally effective, they have the problem of exposing the homeowner, for example, to the highly undesirable task of disposing of \n",
    "the dead mouse once trapped. Another associated disadvantage with conventional mousetrap is that once the mouse has entered the trap and accessed the bait, depending on the mouse response time, \n",
    "the mouse may still be able to escape by responding quickly enough to thereby avoid capture once the trap has been triggered. Another disadvantage associated with many mousetraps is \n",
    "they allow the possibility of the mouse escaping even after entering the mousetrap as a result of poor trap design or ineffective trap triggering systems.\n",
    "\"\"\"\n",
    "\n",
    "result = question_answerer(question=\"What is the disadvantage related to the mousetrap\",     context=context)\n",
    "print(f\"Answer: '{result['answer']}', score: {round(result['score'], 4)}, start: {result['start']}, end: {result['end']}\")\n"
   ]
  }
 ],
 "metadata": {
  "kernelspec": {
   "display_name": "Python 3.7.13 ('tf')",
   "language": "python",
   "name": "python3"
  },
  "language_info": {
   "codemirror_mode": {
    "name": "ipython",
    "version": 3
   },
   "file_extension": ".py",
   "mimetype": "text/x-python",
   "name": "python",
   "nbconvert_exporter": "python",
   "pygments_lexer": "ipython3",
   "version": "3.7.13"
  },
  "orig_nbformat": 4,
  "vscode": {
   "interpreter": {
    "hash": "4bb52d5e4481170c90651f8b5312fbc8833df5b4b5f59a4b2782ee855359271c"
   }
  }
 },
 "nbformat": 4,
 "nbformat_minor": 2
}
