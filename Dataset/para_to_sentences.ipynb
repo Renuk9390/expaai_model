{
 "cells": [
  {
   "cell_type": "markdown",
   "metadata": {},
   "source": [
    "# Sentence Dataset Creation"
   ]
  },
  {
   "cell_type": "markdown",
   "metadata": {},
   "source": [
    "### Firstly importing all the required librarires"
   ]
  },
  {
   "cell_type": "code",
   "execution_count": 40,
   "metadata": {},
   "outputs": [],
   "source": [
    "import numpy as np\n",
    "import pandas as pd\n",
    "import nltk"
   ]
  },
  {
   "cell_type": "markdown",
   "metadata": {},
   "source": [
    "### Storing csv dataset as a pandas dataframe"
   ]
  },
  {
   "cell_type": "code",
   "execution_count": 42,
   "metadata": {},
   "outputs": [
    {
     "data": {
      "text/html": [
       "<div>\n",
       "<style scoped>\n",
       "    .dataframe tbody tr th:only-of-type {\n",
       "        vertical-align: middle;\n",
       "    }\n",
       "\n",
       "    .dataframe tbody tr th {\n",
       "        vertical-align: top;\n",
       "    }\n",
       "\n",
       "    .dataframe thead th {\n",
       "        text-align: right;\n",
       "    }\n",
       "</style>\n",
       "<table border=\"1\" class=\"dataframe\">\n",
       "  <thead>\n",
       "    <tr style=\"text-align: right;\">\n",
       "      <th></th>\n",
       "      <th>text</th>\n",
       "      <th>target</th>\n",
       "    </tr>\n",
       "  </thead>\n",
       "  <tbody>\n",
       "    <tr>\n",
       "      <th>0</th>\n",
       "      <td>An image forming apparatus of the present inve...</td>\n",
       "      <td>0</td>\n",
       "    </tr>\n",
       "  </tbody>\n",
       "</table>\n",
       "</div>"
      ],
      "text/plain": [
       "                                                text  target\n",
       "0  An image forming apparatus of the present inve...       0"
      ]
     },
     "execution_count": 42,
     "metadata": {},
     "output_type": "execute_result"
    }
   ],
   "source": [
    "df = pd.read_csv ('../tmp/cleaned_data_150k.csv', nrows=1) # Dataset from PaSa: A Novel Dataset for Patent Sentiment Analysis to Highlight Patent Paragraphs\n",
    "df.head()"
   ]
  },
  {
   "cell_type": "code",
   "execution_count": 45,
   "metadata": {},
   "outputs": [
    {
     "name": "stdout",
     "output_type": "stream",
     "text": [
      "['An image forming apparatus of the present invention includes: a replaceable part used for image formation; an output unit configured to output information indicating that a usage amount of the replaceable part has reached a threshold; an input unit configured to input information; and a control unit configured to set the threshold in accordance with information about image quality input by the input unit.', \"', 'An image forming system of the present invention includes an image forming apparatus and an input device connected to the image forming apparatus, in which the system includes: a replaceable part used for image formation; an output unit configured to output information indicating that a usage amount of the replaceable part has reached a threshold; and a control unit configured to set the threshold in accordance with information about image quality input by the input device.\"]\n"
     ]
    },
    {
     "name": "stderr",
     "output_type": "stream",
     "text": [
      "[nltk_data] Downloading package punkt to\n",
      "[nltk_data]     C:\\Users\\ranax\\AppData\\Roaming\\nltk_data...\n",
      "[nltk_data]   Package punkt is already up-to-date!\n"
     ]
    }
   ],
   "source": [
    "nltk.download('punkt')\n",
    "\n",
    "for ind in df.index:\n",
    "  paragraph = df['text'][ind]\n",
    "  target = df['target'][ind]\n",
    "  a_list = nltk.tokenize.sent_tokenize(paragraph)\n",
    "  print(a_list)\n",
    "#   print(paragraph, '   ', target)"
   ]
  }
 ],
 "metadata": {
  "interpreter": {
   "hash": "cd142e6d339f31d7f0a46814520ef11585911f4a29a6f2adea388f341a3e6b97"
  },
  "kernelspec": {
   "display_name": "Python 3.9.12 ('vsc')",
   "language": "python",
   "name": "python3"
  },
  "language_info": {
   "codemirror_mode": {
    "name": "ipython",
    "version": 3
   },
   "file_extension": ".py",
   "mimetype": "text/x-python",
   "name": "python",
   "nbconvert_exporter": "python",
   "pygments_lexer": "ipython3",
   "version": "3.9.12"
  },
  "orig_nbformat": 4
 },
 "nbformat": 4,
 "nbformat_minor": 2
}
