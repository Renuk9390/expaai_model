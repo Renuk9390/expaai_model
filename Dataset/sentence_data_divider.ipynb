{
 "cells": [
  {
   "cell_type": "markdown",
   "metadata": {},
   "source": [
    "Read "
   ]
  },
  {
   "cell_type": "code",
   "execution_count": 1,
   "metadata": {},
   "outputs": [],
   "source": [
    "import numpy as np\n",
    "import pandas as pd\n",
    "from sklearn.utils import shuffle"
   ]
  },
  {
   "cell_type": "code",
   "execution_count": 3,
   "metadata": {},
   "outputs": [],
   "source": [
    "pos_text_target = pd.read_csv('tmp/positive_sentences.csv',index_col= False)\n",
    "neg_text_target = pd.read_csv('tmp/negative_sentences.csv',index_col= False)\n",
    "neut_text_target = pd.read_csv('tmp/neutral_sentences.csv',index_col= False)"
   ]
  },
  {
   "cell_type": "code",
   "execution_count": 3,
   "metadata": {},
   "outputs": [
    {
     "data": {
      "text/plain": [
       "166412"
      ]
     },
     "execution_count": 3,
     "metadata": {},
     "output_type": "execute_result"
    }
   ],
   "source": [
    "len(pos_text_target)\n",
    "# len(neg_text_target)"
   ]
  },
  {
   "cell_type": "code",
   "execution_count": 4,
   "metadata": {},
   "outputs": [
    {
     "name": "stdout",
     "output_type": "stream",
     "text": [
      "False\n",
      "False\n",
      "False\n"
     ]
    }
   ],
   "source": [
    "# Checking null values in the table\n",
    "print(pos_text_target.isnull().values.any())\n",
    "print(neg_text_target.isnull().values.any())\n",
    "print(neut_text_target.isnull().values.any())"
   ]
  },
  {
   "cell_type": "code",
   "execution_count": 5,
   "metadata": {},
   "outputs": [],
   "source": [
    "# dropping duplicates if any\n",
    "neut_text_target.drop_duplicates(keep='first',inplace=True)\n",
    "pos_text_target.drop_duplicates(keep='first',inplace=True)\n",
    "neg_text_target.drop_duplicates(keep='first',inplace=True)"
   ]
  },
  {
   "cell_type": "code",
   "execution_count": 13,
   "metadata": {},
   "outputs": [
    {
     "name": "stdout",
     "output_type": "stream",
     "text": [
      "(3000, 3)\n"
     ]
    }
   ],
   "source": [
    "# 50k samples from each class for 150k dataset\n",
    "neut_text_target_rs = neut_text_target.sample(n=1000, random_state=1)\n",
    "pos_text_target_rs = pos_text_target.sample(n=1000, random_state=1)\n",
    "neg_text_target_rs = neg_text_target.sample(n=1000, random_state=1)\n",
    "\n",
    "# Combining dataframe \n",
    "frames = [neut_text_target_rs, pos_text_target_rs, neg_text_target_rs]\n",
    "# frames = [neut_text_target, pos_text_target, neg_text_target]\n",
    "combined = pd.concat(frames)\n",
    "combined['Manual_Predictions'] = ''\n",
    "print(combined.shape)\n",
    "combined = shuffle(combined, random_state=0)\n",
    "combined.reset_index(inplace=True, drop=True)\n",
    "combined.head()\n",
    "combined.to_csv('tmp/sentence_based_data_3000_samples.csv', index=False)"
   ]
  }
 ],
 "metadata": {
  "kernelspec": {
   "display_name": "Python 3.10.4 ('bert_env')",
   "language": "python",
   "name": "python3"
  },
  "language_info": {
   "codemirror_mode": {
    "name": "ipython",
    "version": 3
   },
   "file_extension": ".py",
   "mimetype": "text/x-python",
   "name": "python",
   "nbconvert_exporter": "python",
   "pygments_lexer": "ipython3",
   "version": "3.10.4"
  },
  "orig_nbformat": 4,
  "vscode": {
   "interpreter": {
    "hash": "4655d434983e15677638913597445993328257199604ecd9512c80288112199c"
   }
  }
 },
 "nbformat": 4,
 "nbformat_minor": 2
}
