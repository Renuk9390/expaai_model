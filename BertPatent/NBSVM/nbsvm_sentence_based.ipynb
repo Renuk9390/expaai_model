{
 "cells": [
  {
   "cell_type": "code",
   "execution_count": 48,
   "metadata": {},
   "outputs": [],
   "source": [
    "import numpy as np\n",
    "import pandas as pd\n",
    "from sklearn.utils import shuffle"
   ]
  },
  {
   "cell_type": "code",
   "execution_count": 49,
   "metadata": {},
   "outputs": [],
   "source": [
    "import ktrain\n",
    "from ktrain import text"
   ]
  },
  {
   "cell_type": "code",
   "execution_count": 72,
   "metadata": {},
   "outputs": [],
   "source": [
    "pos_text_target = pd.read_csv('../../tmp/positive_sentences.csv',index_col= False)\n",
    "neg_text_target = pd.read_csv('../../tmp/negative_sentences.csv',index_col= False)\n",
    "neut_text_target = pd.read_csv('../../tmp/neutral_sentences.csv',index_col= False)"
   ]
  },
  {
   "cell_type": "code",
   "execution_count": 73,
   "metadata": {},
   "outputs": [
    {
     "name": "stdout",
     "output_type": "stream",
     "text": [
      "(167233, 2)\n",
      "(282229, 2)\n",
      "(558888, 2)\n"
     ]
    }
   ],
   "source": [
    "# Chcking sahpe of dataframe before preprocessing\n",
    "print(pos_text_target.shape)\n",
    "print(neg_text_target.shape)\n",
    "print(neut_text_target.shape)"
   ]
  },
  {
   "cell_type": "code",
   "execution_count": 74,
   "metadata": {},
   "outputs": [
    {
     "name": "stdout",
     "output_type": "stream",
     "text": [
      "False\n",
      "False\n",
      "False\n"
     ]
    }
   ],
   "source": [
    "# Checking null values in the table\n",
    "print(pos_text_target.isnull().values.any())\n",
    "print(neg_text_target.isnull().values.any())\n",
    "print(neut_text_target.isnull().values.any())"
   ]
  },
  {
   "cell_type": "code",
   "execution_count": 75,
   "metadata": {},
   "outputs": [
    {
     "data": {
      "text/html": [
       "<div>\n",
       "<style scoped>\n",
       "    .dataframe tbody tr th:only-of-type {\n",
       "        vertical-align: middle;\n",
       "    }\n",
       "\n",
       "    .dataframe tbody tr th {\n",
       "        vertical-align: top;\n",
       "    }\n",
       "\n",
       "    .dataframe thead th {\n",
       "        text-align: right;\n",
       "    }\n",
       "</style>\n",
       "<table border=\"1\" class=\"dataframe\">\n",
       "  <thead>\n",
       "    <tr style=\"text-align: right;\">\n",
       "      <th></th>\n",
       "      <th>text</th>\n",
       "      <th>target</th>\n",
       "    </tr>\n",
       "  </thead>\n",
       "  <tbody>\n",
       "    <tr>\n",
       "      <th>114</th>\n",
       "      <td>The discharge path is designed closer to a sid...</td>\n",
       "      <td>0</td>\n",
       "    </tr>\n",
       "    <tr>\n",
       "      <th>305</th>\n",
       "      <td>That is, this arrangement can easily achieve t...</td>\n",
       "      <td>0</td>\n",
       "    </tr>\n",
       "    <tr>\n",
       "      <th>473</th>\n",
       "      <td>Therefore the replacement of the plant cultiva...</td>\n",
       "      <td>0</td>\n",
       "    </tr>\n",
       "    <tr>\n",
       "      <th>563</th>\n",
       "      <td>', 'That is, the present invention is as follows.</td>\n",
       "      <td>0</td>\n",
       "    </tr>\n",
       "    <tr>\n",
       "      <th>790</th>\n",
       "      <td>In this case, the OR circuit may output the th...</td>\n",
       "      <td>0</td>\n",
       "    </tr>\n",
       "    <tr>\n",
       "      <th>...</th>\n",
       "      <td>...</td>\n",
       "      <td>...</td>\n",
       "    </tr>\n",
       "    <tr>\n",
       "      <th>558878</th>\n",
       "      <td>', '5.</td>\n",
       "      <td>0</td>\n",
       "    </tr>\n",
       "    <tr>\n",
       "      <th>558880</th>\n",
       "      <td>', '6.</td>\n",
       "      <td>0</td>\n",
       "    </tr>\n",
       "    <tr>\n",
       "      <th>558882</th>\n",
       "      <td>', '7.</td>\n",
       "      <td>0</td>\n",
       "    </tr>\n",
       "    <tr>\n",
       "      <th>558884</th>\n",
       "      <td>', '8.</td>\n",
       "      <td>0</td>\n",
       "    </tr>\n",
       "    <tr>\n",
       "      <th>558886</th>\n",
       "      <td>', '9.</td>\n",
       "      <td>0</td>\n",
       "    </tr>\n",
       "  </tbody>\n",
       "</table>\n",
       "<p>40010 rows × 2 columns</p>\n",
       "</div>"
      ],
      "text/plain": [
       "                                                     text  target\n",
       "114     The discharge path is designed closer to a sid...       0\n",
       "305     That is, this arrangement can easily achieve t...       0\n",
       "473     Therefore the replacement of the plant cultiva...       0\n",
       "563     ', 'That is, the present invention is as follows.       0\n",
       "790     In this case, the OR circuit may output the th...       0\n",
       "...                                                   ...     ...\n",
       "558878                                             ', '5.       0\n",
       "558880                                             ', '6.       0\n",
       "558882                                             ', '7.       0\n",
       "558884                                             ', '8.       0\n",
       "558886                                             ', '9.       0\n",
       "\n",
       "[40010 rows x 2 columns]"
      ]
     },
     "execution_count": 75,
     "metadata": {},
     "output_type": "execute_result"
    }
   ],
   "source": [
    "neut_text_target[neut_text_target.duplicated('text')]"
   ]
  },
  {
   "cell_type": "code",
   "execution_count": 76,
   "metadata": {},
   "outputs": [
    {
     "data": {
      "text/plain": [
       "'The method includes receiving a bandwidth ranging message from a terminal in an idle state, allocating an uplink resource to the terminal, and receiving a message for access state transfer including a multicast Connection IDentifier (CID) via the allocated uplink resource from the terminal.'"
      ]
     },
     "execution_count": 76,
     "metadata": {},
     "output_type": "execute_result"
    }
   ],
   "source": [
    "neut_text_target['text'][239]"
   ]
  },
  {
   "cell_type": "code",
   "execution_count": 77,
   "metadata": {},
   "outputs": [
    {
     "data": {
      "text/html": [
       "<div>\n",
       "<style scoped>\n",
       "    .dataframe tbody tr th:only-of-type {\n",
       "        vertical-align: middle;\n",
       "    }\n",
       "\n",
       "    .dataframe tbody tr th {\n",
       "        vertical-align: top;\n",
       "    }\n",
       "\n",
       "    .dataframe thead th {\n",
       "        text-align: right;\n",
       "    }\n",
       "</style>\n",
       "<table border=\"1\" class=\"dataframe\">\n",
       "  <thead>\n",
       "    <tr style=\"text-align: right;\">\n",
       "      <th></th>\n",
       "      <th>text</th>\n",
       "      <th>target</th>\n",
       "    </tr>\n",
       "  </thead>\n",
       "  <tbody>\n",
       "    <tr>\n",
       "      <th>239</th>\n",
       "      <td>The method includes receiving a bandwidth rang...</td>\n",
       "      <td>0</td>\n",
       "    </tr>\n",
       "  </tbody>\n",
       "</table>\n",
       "</div>"
      ],
      "text/plain": [
       "                                                  text  target\n",
       "239  The method includes receiving a bandwidth rang...       0"
      ]
     },
     "execution_count": 77,
     "metadata": {},
     "output_type": "execute_result"
    }
   ],
   "source": [
    "neut_text_target[neut_text_target['text']=='The method includes receiving a bandwidth ranging message from a terminal in an idle state, allocating an uplink resource to the terminal, and receiving a message for access state transfer including a multicast Connection IDentifier (CID) via the allocated uplink resource from the terminal.']"
   ]
  },
  {
   "cell_type": "code",
   "execution_count": 78,
   "metadata": {},
   "outputs": [
    {
     "name": "stdout",
     "output_type": "stream",
     "text": [
      "(518878, 2)\n"
     ]
    }
   ],
   "source": [
    "# Removing duplicated rows \n",
    "neut_text_target.drop_duplicates(keep='first',inplace=True)\n",
    "print(neut_text_target.shape)"
   ]
  },
  {
   "cell_type": "code",
   "execution_count": 115,
   "metadata": {},
   "outputs": [],
   "source": [
    "# Choosing randomly 100K samples for furthre processing \n",
    "neut_text_target_rs = neut_text_target.sample(n=100000, random_state=1)"
   ]
  },
  {
   "cell_type": "code",
   "execution_count": 80,
   "metadata": {},
   "outputs": [
    {
     "name": "stdout",
     "output_type": "stream",
     "text": [
      "(157938, 2)\n"
     ]
    }
   ],
   "source": [
    "# Removing duplicated rows and printing shape\n",
    "pos_text_target.drop_duplicates(keep='first',inplace=True)\n",
    "print(pos_text_target.shape)"
   ]
  },
  {
   "cell_type": "code",
   "execution_count": 116,
   "metadata": {},
   "outputs": [],
   "source": [
    "# Choosing randomly 100K samples for furthre processing \n",
    "pos_text_target_rs = pos_text_target.sample(n=100000, random_state=1)"
   ]
  },
  {
   "cell_type": "code",
   "execution_count": 82,
   "metadata": {},
   "outputs": [
    {
     "name": "stdout",
     "output_type": "stream",
     "text": [
      "(265548, 2)\n"
     ]
    }
   ],
   "source": [
    "# Removing duplicated rows and printing shape\n",
    "neg_text_target.drop_duplicates(keep='first',inplace=True)\n",
    "print(neg_text_target.shape)"
   ]
  },
  {
   "cell_type": "code",
   "execution_count": 117,
   "metadata": {},
   "outputs": [],
   "source": [
    "# Choosing randomly 100K samples for furthre processing \n",
    "neg_text_target_rs = neg_text_target.sample(n=100000, random_state=1)"
   ]
  },
  {
   "cell_type": "code",
   "execution_count": 118,
   "metadata": {},
   "outputs": [],
   "source": [
    "# Combining dataframe \n",
    "frames = [neut_text_target_rs, pos_text_target_rs, neg_text_target_rs]\n",
    "combined = pd.concat(frames)"
   ]
  },
  {
   "cell_type": "code",
   "execution_count": 119,
   "metadata": {},
   "outputs": [
    {
     "name": "stdout",
     "output_type": "stream",
     "text": [
      "(300000, 2)\n"
     ]
    },
    {
     "data": {
      "text/html": [
       "<div>\n",
       "<style scoped>\n",
       "    .dataframe tbody tr th:only-of-type {\n",
       "        vertical-align: middle;\n",
       "    }\n",
       "\n",
       "    .dataframe tbody tr th {\n",
       "        vertical-align: top;\n",
       "    }\n",
       "\n",
       "    .dataframe thead th {\n",
       "        text-align: right;\n",
       "    }\n",
       "</style>\n",
       "<table border=\"1\" class=\"dataframe\">\n",
       "  <thead>\n",
       "    <tr style=\"text-align: right;\">\n",
       "      <th></th>\n",
       "      <th>text</th>\n",
       "      <th>target</th>\n",
       "    </tr>\n",
       "  </thead>\n",
       "  <tbody>\n",
       "    <tr>\n",
       "      <th>24303</th>\n",
       "      <td>The learning method includes the steps of: a c...</td>\n",
       "      <td>0</td>\n",
       "    </tr>\n",
       "    <tr>\n",
       "      <th>272156</th>\n",
       "      <td>', '(4) According to one aspect of the inventi...</td>\n",
       "      <td>0</td>\n",
       "    </tr>\n",
       "    <tr>\n",
       "      <th>300561</th>\n",
       "      <td>', 'According to the first aspect, the control...</td>\n",
       "      <td>0</td>\n",
       "    </tr>\n",
       "    <tr>\n",
       "      <th>490068</th>\n",
       "      <td>', 'In this case, each recess is formed such t...</td>\n",
       "      <td>0</td>\n",
       "    </tr>\n",
       "    <tr>\n",
       "      <th>481293</th>\n",
       "      <td>In order to achieve the above-described object...</td>\n",
       "      <td>0</td>\n",
       "    </tr>\n",
       "  </tbody>\n",
       "</table>\n",
       "</div>"
      ],
      "text/plain": [
       "                                                     text  target\n",
       "24303   The learning method includes the steps of: a c...       0\n",
       "272156  ', '(4) According to one aspect of the inventi...       0\n",
       "300561  ', 'According to the first aspect, the control...       0\n",
       "490068  ', 'In this case, each recess is formed such t...       0\n",
       "481293  In order to achieve the above-described object...       0"
      ]
     },
     "execution_count": 119,
     "metadata": {},
     "output_type": "execute_result"
    }
   ],
   "source": [
    "print(combined.shape)\n",
    "combined.head()"
   ]
  },
  {
   "cell_type": "code",
   "execution_count": 120,
   "metadata": {},
   "outputs": [
    {
     "data": {
      "text/html": [
       "<div>\n",
       "<style scoped>\n",
       "    .dataframe tbody tr th:only-of-type {\n",
       "        vertical-align: middle;\n",
       "    }\n",
       "\n",
       "    .dataframe tbody tr th {\n",
       "        vertical-align: top;\n",
       "    }\n",
       "\n",
       "    .dataframe thead th {\n",
       "        text-align: right;\n",
       "    }\n",
       "</style>\n",
       "<table border=\"1\" class=\"dataframe\">\n",
       "  <thead>\n",
       "    <tr style=\"text-align: right;\">\n",
       "      <th></th>\n",
       "      <th>text</th>\n",
       "      <th>target</th>\n",
       "    </tr>\n",
       "  </thead>\n",
       "  <tbody>\n",
       "    <tr>\n",
       "      <th>0</th>\n",
       "      <td>Thereby, the return oil is prevented from goin...</td>\n",
       "      <td>1</td>\n",
       "    </tr>\n",
       "    <tr>\n",
       "      <th>1</th>\n",
       "      <td>', 'While the present inventors examined impro...</td>\n",
       "      <td>0</td>\n",
       "    </tr>\n",
       "    <tr>\n",
       "      <th>2</th>\n",
       "      <td>For example, the inner core portion and the ou...</td>\n",
       "      <td>0</td>\n",
       "    </tr>\n",
       "    <tr>\n",
       "      <th>3</th>\n",
       "      <td>In a case where the traffic amount is small, w...</td>\n",
       "      <td>2</td>\n",
       "    </tr>\n",
       "    <tr>\n",
       "      <th>4</th>\n",
       "      <td>', 'In the twelfth aspect of the invention, ac...</td>\n",
       "      <td>0</td>\n",
       "    </tr>\n",
       "  </tbody>\n",
       "</table>\n",
       "</div>"
      ],
      "text/plain": [
       "                                                text  target\n",
       "0  Thereby, the return oil is prevented from goin...       1\n",
       "1  ', 'While the present inventors examined impro...       0\n",
       "2  For example, the inner core portion and the ou...       0\n",
       "3  In a case where the traffic amount is small, w...       2\n",
       "4  ', 'In the twelfth aspect of the invention, ac...       0"
      ]
     },
     "execution_count": 120,
     "metadata": {},
     "output_type": "execute_result"
    }
   ],
   "source": [
    "combined = shuffle(combined, random_state=0)\n",
    "combined.reset_index(inplace=True, drop=True)\n",
    "combined.head()"
   ]
  },
  {
   "cell_type": "code",
   "execution_count": 122,
   "metadata": {},
   "outputs": [],
   "source": [
    "combined.to_csv('../../tmp/sentence_based_data_300K.csv', index=False)"
   ]
  },
  {
   "cell_type": "code",
   "execution_count": 92,
   "metadata": {},
   "outputs": [
    {
     "name": "stdout",
     "output_type": "stream",
     "text": [
      "fasttext: a fastText-like model [http://arxiv.org/pdf/1607.01759.pdf]\n",
      "logreg: logistic regression using a trainable Embedding layer\n",
      "nbsvm: NBSVM model [http://www.aclweb.org/anthology/P12-2018]\n",
      "bigru: Bidirectional GRU with pretrained fasttext word vectors [https://fasttext.cc/docs/en/crawl-vectors.html]\n",
      "standard_gru: simple 2-layer GRU with randomly initialized embeddings\n",
      "bert: Bidirectional Encoder Representations from Transformers (BERT) from keras_bert [https://arxiv.org/abs/1810.04805]\n",
      "distilbert: distilled, smaller, and faster BERT from Hugging Face transformers [https://arxiv.org/abs/1910.01108]\n"
     ]
    }
   ],
   "source": [
    "text.print_text_classifiers()"
   ]
  },
  {
   "cell_type": "code",
   "execution_count": 114,
   "metadata": {},
   "outputs": [
    {
     "ename": "AttributeError",
     "evalue": "'NoneType' object has no attribute 'utils'",
     "output_type": "error",
     "traceback": [
      "\u001b[1;31m---------------------------------------------------------------------------\u001b[0m",
      "\u001b[1;31mAttributeError\u001b[0m                            Traceback (most recent call last)",
      "\u001b[1;32mc:\\Study\\Master Thesis\\expaai_model\\BertPatent\\NBSVM\\nbsvm_sentence_based.ipynb Cell 19\u001b[0m in \u001b[0;36m<cell line: 2>\u001b[1;34m()\u001b[0m\n\u001b[0;32m      <a href='vscode-notebook-cell:/c%3A/Study/Master%20Thesis/expaai_model/BertPatent/NBSVM/nbsvm_sentence_based.ipynb#X31sZmlsZQ%3D%3D?line=0'>1</a>\u001b[0m \u001b[39m# Crating 80-20 split and procced further  \u001b[39;00m\n\u001b[1;32m----> <a href='vscode-notebook-cell:/c%3A/Study/Master%20Thesis/expaai_model/BertPatent/NBSVM/nbsvm_sentence_based.ipynb#X31sZmlsZQ%3D%3D?line=1'>2</a>\u001b[0m (x_train, y_train), (x_test, y_test), preproc \u001b[39m=\u001b[39m text\u001b[39m.\u001b[39;49mtexts_from_df(combined, \n\u001b[0;32m      <a href='vscode-notebook-cell:/c%3A/Study/Master%20Thesis/expaai_model/BertPatent/NBSVM/nbsvm_sentence_based.ipynb#X31sZmlsZQ%3D%3D?line=2'>3</a>\u001b[0m                                                                    \u001b[39m'\u001b[39;49m\u001b[39mtext\u001b[39;49m\u001b[39m'\u001b[39;49m, \u001b[39m# name of column containing text\u001b[39;49;00m\n\u001b[0;32m      <a href='vscode-notebook-cell:/c%3A/Study/Master%20Thesis/expaai_model/BertPatent/NBSVM/nbsvm_sentence_based.ipynb#X31sZmlsZQ%3D%3D?line=3'>4</a>\u001b[0m                                                                    label_columns\u001b[39m=\u001b[39;49m[\u001b[39m'\u001b[39;49m\u001b[39mtarget\u001b[39;49m\u001b[39m'\u001b[39;49m],\n\u001b[0;32m      <a href='vscode-notebook-cell:/c%3A/Study/Master%20Thesis/expaai_model/BertPatent/NBSVM/nbsvm_sentence_based.ipynb#X31sZmlsZQ%3D%3D?line=4'>5</a>\u001b[0m                                                                    maxlen\u001b[39m=\u001b[39;49m\u001b[39m1000\u001b[39;49m, \n\u001b[0;32m      <a href='vscode-notebook-cell:/c%3A/Study/Master%20Thesis/expaai_model/BertPatent/NBSVM/nbsvm_sentence_based.ipynb#X31sZmlsZQ%3D%3D?line=5'>6</a>\u001b[0m                                                                    max_features\u001b[39m=\u001b[39;49m\u001b[39m100000\u001b[39;49m,\n\u001b[0;32m      <a href='vscode-notebook-cell:/c%3A/Study/Master%20Thesis/expaai_model/BertPatent/NBSVM/nbsvm_sentence_based.ipynb#X31sZmlsZQ%3D%3D?line=6'>7</a>\u001b[0m                                                                    preprocess_mode\u001b[39m=\u001b[39;49m\u001b[39m'\u001b[39;49m\u001b[39mstandard\u001b[39;49m\u001b[39m'\u001b[39;49m,\n\u001b[0;32m      <a href='vscode-notebook-cell:/c%3A/Study/Master%20Thesis/expaai_model/BertPatent/NBSVM/nbsvm_sentence_based.ipynb#X31sZmlsZQ%3D%3D?line=7'>8</a>\u001b[0m                                                                    val_pct\u001b[39m=\u001b[39;49m\u001b[39m0.2\u001b[39;49m,\n\u001b[0;32m      <a href='vscode-notebook-cell:/c%3A/Study/Master%20Thesis/expaai_model/BertPatent/NBSVM/nbsvm_sentence_based.ipynb#X31sZmlsZQ%3D%3D?line=8'>9</a>\u001b[0m                                                                    ngram_range\u001b[39m=\u001b[39;49m\u001b[39m2\u001b[39;49m,\n\u001b[0;32m     <a href='vscode-notebook-cell:/c%3A/Study/Master%20Thesis/expaai_model/BertPatent/NBSVM/nbsvm_sentence_based.ipynb#X31sZmlsZQ%3D%3D?line=9'>10</a>\u001b[0m                                                                    lang\u001b[39m=\u001b[39;49m\u001b[39mNone\u001b[39;49;00m, is_regression\u001b[39m=\u001b[39;49m\u001b[39mFalse\u001b[39;49;00m, random_state\u001b[39m=\u001b[39;49m\u001b[39mNone\u001b[39;49;00m, val_df\u001b[39m=\u001b[39;49m\u001b[39mNone\u001b[39;49;00m)\n",
      "File \u001b[1;32mc:\\Users\\ranax\\anaconda3\\envs\\bert_env\\lib\\site-packages\\ktrain\\text\\data.py:308\u001b[0m, in \u001b[0;36mtexts_from_df\u001b[1;34m(train_df, text_column, label_columns, val_df, max_features, maxlen, val_pct, ngram_range, preprocess_mode, lang, is_regression, random_state, verbose)\u001b[0m\n\u001b[0;32m    306\u001b[0m \u001b[39m# transform labels\u001b[39;00m\n\u001b[0;32m    307\u001b[0m ytransdf \u001b[39m=\u001b[39m U\u001b[39m.\u001b[39mYTransformDataFrame(label_columns, is_regression\u001b[39m=\u001b[39mis_regression)\n\u001b[1;32m--> 308\u001b[0m t_df \u001b[39m=\u001b[39m ytransdf\u001b[39m.\u001b[39;49mapply_train(train_df)\n\u001b[0;32m    309\u001b[0m v_df \u001b[39m=\u001b[39m ytransdf\u001b[39m.\u001b[39mapply_test(val_df)\n\u001b[0;32m    310\u001b[0m class_names \u001b[39m=\u001b[39m ytransdf\u001b[39m.\u001b[39mget_classes()\n",
      "File \u001b[1;32mc:\\Users\\ranax\\anaconda3\\envs\\bert_env\\lib\\site-packages\\ktrain\\utils.py:917\u001b[0m, in \u001b[0;36mYTransformDataFrame.apply_train\u001b[1;34m(self, df)\u001b[0m\n\u001b[0;32m    916\u001b[0m \u001b[39mdef\u001b[39;00m \u001b[39mapply_train\u001b[39m(\u001b[39mself\u001b[39m, df):\n\u001b[1;32m--> 917\u001b[0m     \u001b[39mreturn\u001b[39;00m \u001b[39mself\u001b[39;49m\u001b[39m.\u001b[39;49mapply(df, train\u001b[39m=\u001b[39;49m\u001b[39mTrue\u001b[39;49;00m)\n",
      "File \u001b[1;32mc:\\Users\\ranax\\anaconda3\\envs\\bert_env\\lib\\site-packages\\ktrain\\utils.py:890\u001b[0m, in \u001b[0;36mYTransformDataFrame.apply\u001b[1;34m(self, df, train)\u001b[0m\n\u001b[0;32m    887\u001b[0m         \u001b[39mself\u001b[39m\u001b[39m.\u001b[39mset_classes(class_names)\n\u001b[0;32m    889\u001b[0m \u001b[39m# transform targets\u001b[39;00m\n\u001b[1;32m--> 890\u001b[0m targets \u001b[39m=\u001b[39m \u001b[39msuper\u001b[39;49m()\u001b[39m.\u001b[39;49mapply(\n\u001b[0;32m    891\u001b[0m     targets, train\u001b[39m=\u001b[39;49mtrain\n\u001b[0;32m    892\u001b[0m )  \u001b[39m# self.c (new label_columns) may be modified here\u001b[39;00m\n\u001b[0;32m    893\u001b[0m targets \u001b[39m=\u001b[39m (\n\u001b[0;32m    894\u001b[0m     targets \u001b[39mif\u001b[39;00m \u001b[39mlen\u001b[39m(targets\u001b[39m.\u001b[39mshape) \u001b[39m>\u001b[39m \u001b[39m1\u001b[39m \u001b[39melse\u001b[39;00m np\u001b[39m.\u001b[39mexpand_dims(targets, \u001b[39m1\u001b[39m)\n\u001b[0;32m    895\u001b[0m )  \u001b[39m# since self.label_columns is list\u001b[39;00m\n\u001b[0;32m    897\u001b[0m \u001b[39m# modify DataFrame\u001b[39;00m\n",
      "File \u001b[1;32mc:\\Users\\ranax\\anaconda3\\envs\\bert_env\\lib\\site-packages\\ktrain\\utils.py:770\u001b[0m, in \u001b[0;36mYTransform.apply\u001b[1;34m(self, targets, train)\u001b[0m\n\u001b[0;32m    765\u001b[0m     \u001b[39mif\u001b[39;00m train \u001b[39mand\u001b[39;00m (\u001b[39mlen\u001b[39m(\u001b[39mset\u001b[39m(targets)) \u001b[39m!=\u001b[39m \u001b[39mint\u001b[39m(\u001b[39mmax\u001b[39m(targets) \u001b[39m+\u001b[39m \u001b[39m1\u001b[39m)):\n\u001b[0;32m    766\u001b[0m         \u001b[39mraise\u001b[39;00m \u001b[39mValueError\u001b[39;00m(\n\u001b[0;32m    767\u001b[0m             \u001b[39m\"\u001b[39m\u001b[39mlen(set(targets) is \u001b[39m\u001b[39m%s\u001b[39;00m\u001b[39m but max(targets)+1 is  \u001b[39m\u001b[39m%s\u001b[39;00m\u001b[39m\"\u001b[39m\n\u001b[0;32m    768\u001b[0m             \u001b[39m%\u001b[39m (\u001b[39mlen\u001b[39m(\u001b[39mset\u001b[39m(targets)), \u001b[39mint\u001b[39m(\u001b[39mmax\u001b[39m(targets) \u001b[39m+\u001b[39m \u001b[39m1\u001b[39m))\n\u001b[0;32m    769\u001b[0m         )\n\u001b[1;32m--> 770\u001b[0m     targets \u001b[39m=\u001b[39m keras\u001b[39m.\u001b[39;49mutils\u001b[39m.\u001b[39mto_categorical(\n\u001b[0;32m    771\u001b[0m         targets, num_classes\u001b[39m=\u001b[39m\u001b[39mlen\u001b[39m(\u001b[39mself\u001b[39m\u001b[39m.\u001b[39mget_classes())\n\u001b[0;32m    772\u001b[0m     )\n\u001b[0;32m    773\u001b[0m \u001b[39mif\u001b[39;00m train:\n\u001b[0;32m    774\u001b[0m     \u001b[39mself\u001b[39m\u001b[39m.\u001b[39mtrain_called \u001b[39m=\u001b[39m \u001b[39mTrue\u001b[39;00m\n",
      "\u001b[1;31mAttributeError\u001b[0m: 'NoneType' object has no attribute 'utils'"
     ]
    }
   ],
   "source": [
    "# Crating 80-20 split and procced further  \n",
    "(x_train, y_train), (x_test, y_test), preproc = text.texts_from_df(combined, \n",
    "                                                                   'text', # name of column containing text\n",
    "                                                                   label_columns=['target'],\n",
    "                                                                   maxlen=1000, \n",
    "                                                                   max_features=100000,\n",
    "                                                                   preprocess_mode='standard',\n",
    "                                                                   val_pct=0.2,\n",
    "                                                                   ngram_range=2,\n",
    "                                                                   lang=None, is_regression=False, random_state=None, val_df=None)"
   ]
  }
 ],
 "metadata": {
  "kernelspec": {
   "display_name": "Python 3.10.4 ('bert_env')",
   "language": "python",
   "name": "python3"
  },
  "language_info": {
   "codemirror_mode": {
    "name": "ipython",
    "version": 3
   },
   "file_extension": ".py",
   "mimetype": "text/x-python",
   "name": "python",
   "nbconvert_exporter": "python",
   "pygments_lexer": "ipython3",
   "version": "3.10.4"
  },
  "orig_nbformat": 4,
  "vscode": {
   "interpreter": {
    "hash": "4655d434983e15677638913597445993328257199604ecd9512c80288112199c"
   }
  }
 },
 "nbformat": 4,
 "nbformat_minor": 2
}
