{
  "cells": [
    {
      "cell_type": "markdown",
      "metadata": {
        "id": "X4cRE8IbIrIV"
      },
      "source": [
        "If you're opening this Notebook on colab, you will probably need to install the most recent versions of 🤗 Transformers and 🤗 Datasets. We will also need `scipy` and `scikit-learn` for some of the metrics. Uncomment the following cell and run it."
      ]
    },
    {
      "cell_type": "code",
      "execution_count": 4,
      "metadata": {
        "id": "MOsHUjgdIrIW"
      },
      "outputs": [
        {
          "name": "stdout",
          "output_type": "stream",
          "text": [
            "Requirement already satisfied: huggingface_hub in c:\\users\\ranax\\anaconda3\\envs\\bert_tf\\lib\\site-packages (0.9.1)\n",
            "Requirement already satisfied: requests in c:\\users\\ranax\\anaconda3\\envs\\bert_tf\\lib\\site-packages (from huggingface_hub) (2.28.1)\n",
            "Requirement already satisfied: packaging>=20.9 in c:\\users\\ranax\\anaconda3\\envs\\bert_tf\\lib\\site-packages (from huggingface_hub) (21.3)\n",
            "Requirement already satisfied: tqdm in c:\\users\\ranax\\anaconda3\\envs\\bert_tf\\lib\\site-packages (from huggingface_hub) (4.64.1)\n",
            "Requirement already satisfied: pyyaml>=5.1 in c:\\users\\ranax\\anaconda3\\envs\\bert_tf\\lib\\site-packages (from huggingface_hub) (6.0)\n",
            "Requirement already satisfied: typing-extensions>=3.7.4.3 in c:\\users\\ranax\\anaconda3\\envs\\bert_tf\\lib\\site-packages (from huggingface_hub) (4.3.0)\n",
            "Requirement already satisfied: filelock in c:\\users\\ranax\\anaconda3\\envs\\bert_tf\\lib\\site-packages (from huggingface_hub) (3.8.0)\n",
            "Requirement already satisfied: pyparsing!=3.0.5,>=2.0.2 in c:\\users\\ranax\\anaconda3\\envs\\bert_tf\\lib\\site-packages (from packaging>=20.9->huggingface_hub) (3.0.9)\n",
            "Requirement already satisfied: urllib3<1.27,>=1.21.1 in c:\\users\\ranax\\anaconda3\\envs\\bert_tf\\lib\\site-packages (from requests->huggingface_hub) (1.26.12)\n",
            "Requirement already satisfied: certifi>=2017.4.17 in c:\\users\\ranax\\anaconda3\\envs\\bert_tf\\lib\\site-packages (from requests->huggingface_hub) (2022.9.14)\n",
            "Requirement already satisfied: idna<4,>=2.5 in c:\\users\\ranax\\anaconda3\\envs\\bert_tf\\lib\\site-packages (from requests->huggingface_hub) (3.4)\n",
            "Requirement already satisfied: charset-normalizer<3,>=2 in c:\\users\\ranax\\anaconda3\\envs\\bert_tf\\lib\\site-packages (from requests->huggingface_hub) (2.1.1)\n",
            "Requirement already satisfied: colorama in c:\\users\\ranax\\anaconda3\\envs\\bert_tf\\lib\\site-packages (from tqdm->huggingface_hub) (0.4.5)\n",
            "Collecting ipywidgets\n",
            "  Using cached ipywidgets-8.0.2-py3-none-any.whl (134 kB)\n",
            "Requirement already satisfied: traitlets>=4.3.1 in c:\\users\\ranax\\anaconda3\\envs\\bert_tf\\lib\\site-packages (from ipywidgets) (5.4.0)\n",
            "Collecting widgetsnbextension~=4.0\n",
            "  Using cached widgetsnbextension-4.0.3-py3-none-any.whl (2.0 MB)\n",
            "Requirement already satisfied: ipython>=6.1.0 in c:\\users\\ranax\\anaconda3\\envs\\bert_tf\\lib\\site-packages (from ipywidgets) (8.5.0)\n",
            "Collecting jupyterlab-widgets~=3.0\n",
            "  Using cached jupyterlab_widgets-3.0.3-py3-none-any.whl (384 kB)\n",
            "Requirement already satisfied: ipykernel>=4.5.1 in c:\\users\\ranax\\anaconda3\\envs\\bert_tf\\lib\\site-packages (from ipywidgets) (6.15.3)\n",
            "Requirement already satisfied: matplotlib-inline>=0.1 in c:\\users\\ranax\\anaconda3\\envs\\bert_tf\\lib\\site-packages (from ipykernel>=4.5.1->ipywidgets) (0.1.6)\n",
            "Requirement already satisfied: nest-asyncio in c:\\users\\ranax\\anaconda3\\envs\\bert_tf\\lib\\site-packages (from ipykernel>=4.5.1->ipywidgets) (1.5.5)\n",
            "Requirement already satisfied: packaging in c:\\users\\ranax\\anaconda3\\envs\\bert_tf\\lib\\site-packages (from ipykernel>=4.5.1->ipywidgets) (21.3)\n",
            "Requirement already satisfied: pyzmq>=17 in c:\\users\\ranax\\anaconda3\\envs\\bert_tf\\lib\\site-packages (from ipykernel>=4.5.1->ipywidgets) (23.2.0)\n",
            "Requirement already satisfied: debugpy>=1.0 in c:\\users\\ranax\\anaconda3\\envs\\bert_tf\\lib\\site-packages (from ipykernel>=4.5.1->ipywidgets) (1.6.3)\n",
            "Requirement already satisfied: tornado>=6.1 in c:\\users\\ranax\\anaconda3\\envs\\bert_tf\\lib\\site-packages (from ipykernel>=4.5.1->ipywidgets) (6.2)\n",
            "Requirement already satisfied: jupyter-client>=6.1.12 in c:\\users\\ranax\\anaconda3\\envs\\bert_tf\\lib\\site-packages (from ipykernel>=4.5.1->ipywidgets) (7.3.5)\n",
            "Requirement already satisfied: psutil in c:\\users\\ranax\\anaconda3\\envs\\bert_tf\\lib\\site-packages (from ipykernel>=4.5.1->ipywidgets) (5.9.0)\n",
            "Requirement already satisfied: jedi>=0.16 in c:\\users\\ranax\\anaconda3\\envs\\bert_tf\\lib\\site-packages (from ipython>=6.1.0->ipywidgets) (0.18.1)\n",
            "Requirement already satisfied: pickleshare in c:\\users\\ranax\\anaconda3\\envs\\bert_tf\\lib\\site-packages (from ipython>=6.1.0->ipywidgets) (0.7.5)\n",
            "Requirement already satisfied: colorama in c:\\users\\ranax\\anaconda3\\envs\\bert_tf\\lib\\site-packages (from ipython>=6.1.0->ipywidgets) (0.4.5)\n",
            "Requirement already satisfied: prompt-toolkit<3.1.0,>3.0.1 in c:\\users\\ranax\\anaconda3\\envs\\bert_tf\\lib\\site-packages (from ipython>=6.1.0->ipywidgets) (3.0.31)\n",
            "Requirement already satisfied: stack-data in c:\\users\\ranax\\anaconda3\\envs\\bert_tf\\lib\\site-packages (from ipython>=6.1.0->ipywidgets) (0.5.0)\n",
            "Requirement already satisfied: decorator in c:\\users\\ranax\\anaconda3\\envs\\bert_tf\\lib\\site-packages (from ipython>=6.1.0->ipywidgets) (5.1.1)\n",
            "Requirement already satisfied: backcall in c:\\users\\ranax\\anaconda3\\envs\\bert_tf\\lib\\site-packages (from ipython>=6.1.0->ipywidgets) (0.2.0)\n",
            "Requirement already satisfied: pygments>=2.4.0 in c:\\users\\ranax\\anaconda3\\envs\\bert_tf\\lib\\site-packages (from ipython>=6.1.0->ipywidgets) (2.13.0)\n",
            "Requirement already satisfied: parso<0.9.0,>=0.8.0 in c:\\users\\ranax\\anaconda3\\envs\\bert_tf\\lib\\site-packages (from jedi>=0.16->ipython>=6.1.0->ipywidgets) (0.8.3)\n",
            "Requirement already satisfied: jupyter-core>=4.9.2 in c:\\users\\ranax\\anaconda3\\envs\\bert_tf\\lib\\site-packages (from jupyter-client>=6.1.12->ipykernel>=4.5.1->ipywidgets) (4.11.1)\n",
            "Requirement already satisfied: entrypoints in c:\\users\\ranax\\anaconda3\\envs\\bert_tf\\lib\\site-packages (from jupyter-client>=6.1.12->ipykernel>=4.5.1->ipywidgets) (0.4)\n",
            "Requirement already satisfied: python-dateutil>=2.8.2 in c:\\users\\ranax\\anaconda3\\envs\\bert_tf\\lib\\site-packages (from jupyter-client>=6.1.12->ipykernel>=4.5.1->ipywidgets) (2.8.2)\n",
            "Requirement already satisfied: wcwidth in c:\\users\\ranax\\anaconda3\\envs\\bert_tf\\lib\\site-packages (from prompt-toolkit<3.1.0,>3.0.1->ipython>=6.1.0->ipywidgets) (0.2.5)\n",
            "Requirement already satisfied: pyparsing!=3.0.5,>=2.0.2 in c:\\users\\ranax\\anaconda3\\envs\\bert_tf\\lib\\site-packages (from packaging->ipykernel>=4.5.1->ipywidgets) (3.0.9)\n",
            "Requirement already satisfied: executing in c:\\users\\ranax\\anaconda3\\envs\\bert_tf\\lib\\site-packages (from stack-data->ipython>=6.1.0->ipywidgets) (1.0.0)\n",
            "Requirement already satisfied: pure-eval in c:\\users\\ranax\\anaconda3\\envs\\bert_tf\\lib\\site-packages (from stack-data->ipython>=6.1.0->ipywidgets) (0.2.2)\n",
            "Requirement already satisfied: asttokens in c:\\users\\ranax\\anaconda3\\envs\\bert_tf\\lib\\site-packages (from stack-data->ipython>=6.1.0->ipywidgets) (2.0.8)\n",
            "Requirement already satisfied: pywin32>=1.0 in c:\\users\\ranax\\anaconda3\\envs\\bert_tf\\lib\\site-packages (from jupyter-core>=4.9.2->jupyter-client>=6.1.12->ipykernel>=4.5.1->ipywidgets) (303)\n",
            "Requirement already satisfied: six>=1.5 in c:\\users\\ranax\\anaconda3\\envs\\bert_tf\\lib\\site-packages (from python-dateutil>=2.8.2->jupyter-client>=6.1.12->ipykernel>=4.5.1->ipywidgets) (1.16.0)\n",
            "Installing collected packages: widgetsnbextension, jupyterlab-widgets, ipywidgets\n",
            "Successfully installed ipywidgets-8.0.2 jupyterlab-widgets-3.0.3 widgetsnbextension-4.0.3\n"
          ]
        }
      ],
      "source": [
        "#! pip install transformers\n",
        "#! pip install datasets\n",
        "#! pip install scipy sklearn\n",
        "! pip install huggingface_hub\n",
        "! pip install ipywidgets"
      ]
    },
    {
      "cell_type": "markdown",
      "metadata": {
        "id": "oghqFreCPh7w"
      },
      "source": [
        "If you're opening this notebook locally, make sure your environment has an install from the latest version of those libraries.\n",
        "\n",
        "To be able to share your model with the community and generate results like the one shown in the picture below via the inference API, there are a few more steps to follow:\n",
        "\n",
        "First you have to create an access token on the Hugging Face website (sign up [here](https://huggingface.co/join) if you haven't already!) then uncomment the following cell and input your token."
      ]
    },
    {
      "cell_type": "code",
      "execution_count": 2,
      "metadata": {
        "id": "Y2_Ahx6wPh7w"
      },
      "outputs": [
        {
          "data": {
            "application/vnd.jupyter.widget-view+json": {
              "model_id": "97c41681379a474ab7df62e5fdd3e1e3",
              "version_major": 2,
              "version_minor": 0
            },
            "text/plain": [
              "VBox(children=(HTML(value='<center> <img\\nsrc=https://huggingface.co/front/assets/huggingface_logo-noborder.sv…"
            ]
          },
          "metadata": {},
          "output_type": "display_data"
        }
      ],
      "source": [
        "from huggingface_hub import notebook_login\n",
        "\n",
        "notebook_login()"
      ]
    },
    {
      "cell_type": "markdown",
      "metadata": {
        "id": "tFcmqV4RPh7x"
      },
      "source": [
        "Then you need to install Git-LFS and setup Git if you haven't already. Uncomment the following instructions and adapt with your name and email:"
      ]
    },
    {
      "cell_type": "code",
      "execution_count": null,
      "metadata": {
        "id": "K7kbxWzmPh7x"
      },
      "outputs": [],
      "source": [
        "# !apt install git-lfs\n",
        "# !git config --global user.email \"you@example.com\"\n",
        "# !git config --global user.name \"Your Name\""
      ]
    },
    {
      "cell_type": "markdown",
      "metadata": {
        "id": "eK0Tz4ivPh7y"
      },
      "source": [
        "Make sure your version of Transformers is at least 4.16.0 since the functionality was introduced in that version:"
      ]
    },
    {
      "cell_type": "code",
      "execution_count": 3,
      "metadata": {
        "id": "jjzOYUiBPh7y",
        "outputId": "f27a5751-7840-4201-df61-b252db4d8e06"
      },
      "outputs": [
        {
          "name": "stdout",
          "output_type": "stream",
          "text": [
            "4.22.1\n"
          ]
        }
      ],
      "source": [
        "import transformers\n",
        "\n",
        "print(transformers.__version__)"
      ]
    },
    {
      "cell_type": "markdown",
      "metadata": {
        "id": "HFASsisvIrIb"
      },
      "source": [
        "You can find a script version of this notebook to fine-tune your model in a distributed fashion using multiple GPUs or TPUs [here](https://github.com/huggingface/transformers/tree/master/examples/text-classification)."
      ]
    },
    {
      "cell_type": "markdown",
      "metadata": {
        "id": "rEJBSTyZIrIb"
      },
      "source": [
        "# Fine-tuning a model on a text classification task"
      ]
    },
    {
      "cell_type": "markdown",
      "metadata": {
        "id": "kTCFado4IrIc"
      },
      "source": [
        "In this notebook, we will see how to fine-tune one of the [🤗 Transformers](https://github.com/huggingface/transformers) model to a text classification task of the [GLUE Benchmark](https://gluebenchmark.com/).\n",
        "\n",
        "![Widget inference on a text classification task](https://github.com/huggingface/notebooks/blob/main/examples/images/text_classification.png?raw=1)\n",
        "\n",
        "The GLUE Benchmark is a group of nine classification tasks on sentences or pairs of sentences which are:\n",
        "\n",
        "- [CoLA](https://nyu-mll.github.io/CoLA/) (Corpus of Linguistic Acceptability) Determine if a sentence is grammatically correct or not.is a  dataset containing sentences labeled grammatically correct or not.\n",
        "- [MNLI](https://arxiv.org/abs/1704.05426) (Multi-Genre Natural Language Inference) Determine if a sentence entails, contradicts or is unrelated to a given hypothesis. (This dataset has two versions, one with the validation and test set coming from the same distribution, another called mismatched where the validation and test use out-of-domain data.)\n",
        "- [MRPC](https://www.microsoft.com/en-us/download/details.aspx?id=52398) (Microsoft Research Paraphrase Corpus) Determine if two sentences are paraphrases from one another or not.\n",
        "- [QNLI](https://rajpurkar.github.io/SQuAD-explorer/) (Question-answering Natural Language Inference) Determine if the answer to a question is in the second sentence or not. (This dataset is built from the SQuAD dataset.)\n",
        "- [QQP](https://data.quora.com/First-Quora-Dataset-Release-Question-Pairs) (Quora Question Pairs2) Determine if two questions are semantically equivalent or not.\n",
        "- [RTE](https://aclweb.org/aclwiki/Recognizing_Textual_Entailment) (Recognizing Textual Entailment) Determine if a sentence entails a given hypothesis or not.\n",
        "- [SST-2](https://nlp.stanford.edu/sentiment/index.html) (Stanford Sentiment Treebank) Determine if the sentence has a positive or negative sentiment.\n",
        "- [STS-B](http://ixa2.si.ehu.es/stswiki/index.php/STSbenchmark) (Semantic Textual Similarity Benchmark) Determine the similarity of two sentences with a score from 1 to 5.\n",
        "- [WNLI](https://cs.nyu.edu/faculty/davise/papers/WinogradSchemas/WS.html) (Winograd Natural Language Inference) Determine if a sentence with an anonymous pronoun and a sentence with this pronoun replaced are entailed or not. (This dataset is built from the Winograd Schema Challenge dataset.)\n",
        "\n",
        "We will see how to easily load the dataset for each one of those tasks and use Keras to fine-tune a model on it. Each task is named by its acronym, with `mnli-mm` standing for the mismatched version of MNLI (a task with the same training set as `mnli` but different validation and test sets):"
      ]
    },
    {
      "cell_type": "code",
      "execution_count": 4,
      "metadata": {
        "id": "YZbiBDuGIrId"
      },
      "outputs": [],
      "source": [
        "GLUE_TASKS = [\n",
        "    \"cola\",\n",
        "    \"mnli\",\n",
        "    \"mnli-mm\",\n",
        "    \"mrpc\",\n",
        "    \"qnli\",\n",
        "    \"qqp\",\n",
        "    \"rte\",\n",
        "    \"sst2\",\n",
        "    \"stsb\",\n",
        "    \"wnli\",\n",
        "]"
      ]
    },
    {
      "cell_type": "markdown",
      "metadata": {
        "id": "4RRkXuteIrIh"
      },
      "source": [
        "This notebook is built to run on any of the tasks in the list above, with any model checkpoint from the [Model Hub](https://huggingface.co/models) as long as that model has a version with a classification head. Depending on your model and the GPU you are using, you might need to adjust the batch size to avoid out-of-memory errors. Set these three parameters, then the rest of the notebook should run smoothly:"
      ]
    },
    {
      "cell_type": "code",
      "execution_count": 5,
      "metadata": {
        "id": "zVvslsfMIrIh"
      },
      "outputs": [],
      "source": [
        "task = \"sst2\"\n",
        "model_checkpoint = \"distilbert-base-uncased\"\n",
        "batch_size = 16"
      ]
    },
    {
      "cell_type": "markdown",
      "metadata": {
        "id": "whPRbBNbIrIl"
      },
      "source": [
        "## Loading the dataset"
      ]
    },
    {
      "cell_type": "markdown",
      "metadata": {
        "id": "W7QYTpxXIrIl"
      },
      "source": [
        "We will use the [🤗 Datasets](https://github.com/huggingface/datasets) library to download the data and the [🤗 Evaluate](https://github.com/huggingface/datasets) library to get the metric we need to use for evaluation (to compare our model to the benchmark). This can be easily done with the `load_dataset` function from `datasets` and and the `load` function from `evaluate`. "
      ]
    },
    {
      "cell_type": "code",
      "execution_count": 6,
      "metadata": {
        "id": "IreSlFmlIrIm"
      },
      "outputs": [
        {
          "name": "stdout",
          "output_type": "stream",
          "text": [
            "Requirement already satisfied: evaluate in c:\\users\\ranax\\anaconda3\\envs\\bert_tf\\lib\\site-packages (0.2.2)\n",
            "Requirement already satisfied: responses<0.19 in c:\\users\\ranax\\anaconda3\\envs\\bert_tf\\lib\\site-packages (from evaluate) (0.18.0)\n",
            "Requirement already satisfied: multiprocess in c:\\users\\ranax\\anaconda3\\envs\\bert_tf\\lib\\site-packages (from evaluate) (0.70.13)\n",
            "Requirement already satisfied: dill in c:\\users\\ranax\\anaconda3\\envs\\bert_tf\\lib\\site-packages (from evaluate) (0.3.5.1)\n",
            "Requirement already satisfied: xxhash in c:\\users\\ranax\\anaconda3\\envs\\bert_tf\\lib\\site-packages (from evaluate) (3.0.0)\n",
            "Requirement already satisfied: fsspec[http]>=2021.05.0 in c:\\users\\ranax\\anaconda3\\envs\\bert_tf\\lib\\site-packages (from evaluate) (2022.8.2)\n",
            "Requirement already satisfied: huggingface-hub>=0.7.0 in c:\\users\\ranax\\anaconda3\\envs\\bert_tf\\lib\\site-packages (from evaluate) (0.9.1)\n",
            "Requirement already satisfied: packaging in c:\\users\\ranax\\anaconda3\\envs\\bert_tf\\lib\\site-packages (from evaluate) (21.3)\n",
            "Requirement already satisfied: tqdm>=4.62.1 in c:\\users\\ranax\\anaconda3\\envs\\bert_tf\\lib\\site-packages (from evaluate) (4.64.1)\n",
            "Requirement already satisfied: numpy>=1.17 in c:\\users\\ranax\\anaconda3\\envs\\bert_tf\\lib\\site-packages (from evaluate) (1.23.3)\n",
            "Requirement already satisfied: datasets>=2.0.0 in c:\\users\\ranax\\anaconda3\\envs\\bert_tf\\lib\\site-packages (from evaluate) (2.5.1)\n",
            "Requirement already satisfied: requests>=2.19.0 in c:\\users\\ranax\\anaconda3\\envs\\bert_tf\\lib\\site-packages (from evaluate) (2.28.1)\n",
            "Requirement already satisfied: pandas in c:\\users\\ranax\\anaconda3\\envs\\bert_tf\\lib\\site-packages (from evaluate) (1.5.0)\n",
            "Requirement already satisfied: pyarrow>=6.0.0 in c:\\users\\ranax\\anaconda3\\envs\\bert_tf\\lib\\site-packages (from datasets>=2.0.0->evaluate) (9.0.0)\n",
            "Requirement already satisfied: aiohttp in c:\\users\\ranax\\anaconda3\\envs\\bert_tf\\lib\\site-packages (from datasets>=2.0.0->evaluate) (3.8.3)\n",
            "Requirement already satisfied: filelock in c:\\users\\ranax\\anaconda3\\envs\\bert_tf\\lib\\site-packages (from huggingface-hub>=0.7.0->evaluate) (3.8.0)\n",
            "Requirement already satisfied: typing-extensions>=3.7.4.3 in c:\\users\\ranax\\anaconda3\\envs\\bert_tf\\lib\\site-packages (from huggingface-hub>=0.7.0->evaluate) (4.3.0)\n",
            "Requirement already satisfied: pyyaml>=5.1 in c:\\users\\ranax\\anaconda3\\envs\\bert_tf\\lib\\site-packages (from huggingface-hub>=0.7.0->evaluate) (6.0)\n",
            "Requirement already satisfied: pyparsing!=3.0.5,>=2.0.2 in c:\\users\\ranax\\anaconda3\\envs\\bert_tf\\lib\\site-packages (from packaging->evaluate) (3.0.9)\n",
            "Requirement already satisfied: idna<4,>=2.5 in c:\\users\\ranax\\anaconda3\\envs\\bert_tf\\lib\\site-packages (from requests>=2.19.0->evaluate) (3.4)\n",
            "Requirement already satisfied: charset-normalizer<3,>=2 in c:\\users\\ranax\\anaconda3\\envs\\bert_tf\\lib\\site-packages (from requests>=2.19.0->evaluate) (2.1.1)\n",
            "Requirement already satisfied: urllib3<1.27,>=1.21.1 in c:\\users\\ranax\\anaconda3\\envs\\bert_tf\\lib\\site-packages (from requests>=2.19.0->evaluate) (1.26.12)\n",
            "Requirement already satisfied: certifi>=2017.4.17 in c:\\users\\ranax\\anaconda3\\envs\\bert_tf\\lib\\site-packages (from requests>=2.19.0->evaluate) (2022.9.14)\n",
            "Requirement already satisfied: colorama in c:\\users\\ranax\\anaconda3\\envs\\bert_tf\\lib\\site-packages (from tqdm>=4.62.1->evaluate) (0.4.5)\n",
            "Requirement already satisfied: pytz>=2020.1 in c:\\users\\ranax\\anaconda3\\envs\\bert_tf\\lib\\site-packages (from pandas->evaluate) (2022.2.1)\n",
            "Requirement already satisfied: python-dateutil>=2.8.1 in c:\\users\\ranax\\anaconda3\\envs\\bert_tf\\lib\\site-packages (from pandas->evaluate) (2.8.2)\n",
            "Requirement already satisfied: yarl<2.0,>=1.0 in c:\\users\\ranax\\anaconda3\\envs\\bert_tf\\lib\\site-packages (from aiohttp->datasets>=2.0.0->evaluate) (1.8.1)\n",
            "Requirement already satisfied: multidict<7.0,>=4.5 in c:\\users\\ranax\\anaconda3\\envs\\bert_tf\\lib\\site-packages (from aiohttp->datasets>=2.0.0->evaluate) (6.0.2)\n",
            "Requirement already satisfied: aiosignal>=1.1.2 in c:\\users\\ranax\\anaconda3\\envs\\bert_tf\\lib\\site-packages (from aiohttp->datasets>=2.0.0->evaluate) (1.2.0)\n",
            "Requirement already satisfied: async-timeout<5.0,>=4.0.0a3 in c:\\users\\ranax\\anaconda3\\envs\\bert_tf\\lib\\site-packages (from aiohttp->datasets>=2.0.0->evaluate) (4.0.2)\n",
            "Requirement already satisfied: attrs>=17.3.0 in c:\\users\\ranax\\anaconda3\\envs\\bert_tf\\lib\\site-packages (from aiohttp->datasets>=2.0.0->evaluate) (22.1.0)\n",
            "Requirement already satisfied: frozenlist>=1.1.1 in c:\\users\\ranax\\anaconda3\\envs\\bert_tf\\lib\\site-packages (from aiohttp->datasets>=2.0.0->evaluate) (1.3.1)\n",
            "Requirement already satisfied: six>=1.5 in c:\\users\\ranax\\anaconda3\\envs\\bert_tf\\lib\\site-packages (from python-dateutil>=2.8.1->pandas->evaluate) (1.16.0)\n"
          ]
        }
      ],
      "source": [
        "from datasets import load_dataset\n",
        "! pip install evaluate\n",
        "from evaluate import load"
      ]
    },
    {
      "cell_type": "markdown",
      "metadata": {
        "id": "CKx2zKs5IrIq"
      },
      "source": [
        "With the exception of `mnli-mm`, we can directly pass our task name to those functions. `load_dataset` will cache the dataset to avoid downloading it again the next time you run this cell."
      ]
    },
    {
      "cell_type": "code",
      "execution_count": 10,
      "metadata": {
        "colab": {
          "base_uri": "https://localhost:8080/",
          "height": 270,
          "referenced_widgets": [
            "69caab03d6264fef9fc5649bffff5e20",
            "3f74532faa86412293d90d3952f38c4a",
            "50615aa59c7247c4804ca5cbc7945bd7",
            "fe962391292a413ca55dc932c4279fa7",
            "299f4b4c07654e53a25f8192bd1d7bbd",
            "ad04ed1038154081bbb0c1444784dcc2",
            "7c667ad22b5740d5a6319f1b1e3a8097",
            "46c2b043c0f84806978784a45a4e203b",
            "80e2943be35f46eeb24c8ab13faa6578",
            "de5956b5008d4fdba807bae57509c393",
            "931db1f7a42f4b46b7ff8c2e1262b994",
            "6c1db72efff5476e842c1386fadbbdba",
            "ccd2f37647c547abb4c719b75a26f2de",
            "d30a66df5c0145e79693e09789d96b81",
            "5fa26fc336274073abbd1d550542ee33",
            "2b34de08115d49d285def9269a53f484",
            "d426be871b424affb455aeb7db5e822e",
            "160bf88485f44f5cb6eaeecba5e0901f",
            "745c0d47d672477b9bb0dae77b926364",
            "d22ab78269cd4ccfbcf70c707057c31b",
            "d298eb19eeff453cba51c2804629d3f4",
            "a7204ade36314c86907c562e0a2158b8",
            "e35d42b2d352498ca3fc8530393786b2",
            "75103f83538d44abada79b51a1cec09e",
            "f6253931d90543e9b5fd0bb2d615f73a",
            "051aa783ff9e47e28d1f9584043815f5",
            "0984b2a14115454bbb009df71c1cf36f",
            "8ab9dfce29854049912178941ef1b289",
            "c9de740e007141958545e269372780a4",
            "cbea68b25d6d4ba09b2ce0f27b1726d5",
            "5781fc45cf8d486cb06ed68853b2c644",
            "d2a92143a08a4951b55bab9bc0a6d0d3",
            "a14c3e40e5254d61ba146f6ec88eae25",
            "c4ffe6f624ce4e978a0d9b864544941a",
            "1aca01c1d8c940dfadd3e7144bb35718",
            "9fbbaae50e6743f2aa19342152398186",
            "fea27ca6c9504fc896181bc1ff5730e5",
            "940d00556cb849b3a689d56e274041c2",
            "5cdf9ed939fb42d4bf77301c80b8afca",
            "94b39ccfef0b4b08bf2fb61bb0a657c1",
            "9a55087c85b74ea08b3e952ac1d73cbe",
            "2361ab124daf47cc885ff61f2899b2af",
            "1a65887eb37747ddb75dc4a40f7285f2",
            "3c946e2260704e6c98593136bd32d921",
            "50d325cdb9844f62a9ecc98e768cb5af",
            "aa781f0cfe454e9da5b53b93e9baabd8",
            "6bb68d3887ef43809eb23feb467f9723",
            "7e29a8b952cf4f4ea42833c8bf55342f",
            "dd5997d01d8947e4b1c211433969b89b",
            "2ace4dc78e2f4f1492a181bcd63304e7",
            "bbee008c2791443d8610371d1f16b62b",
            "31b1c8a2e3334b72b45b083688c1a20c",
            "7fb7c36adc624f7dbbcb4a831c1e4f63",
            "0b7c8f1939074794b3d9221244b1344d",
            "a71908883b064e1fbdddb547a8c41743",
            "2f5223f26c8541fc87e91d2205c39995",
            "e63b825755a14c68bc7d9c99ca39b31a"
          ]
        },
        "id": "s_AY1ATSIrIq",
        "outputId": "fd0578d1-8895-443d-b56f-5908de9f1b6b"
      },
      "outputs": [
        {
          "name": "stderr",
          "output_type": "stream",
          "text": [
            "Found cached dataset glue (C:/Users/ranax/.cache/huggingface/datasets/glue/sst2/1.0.0/dacbe3125aa31d7f70367a07a8a9e72a5a0bfeb5fc42e75c9db75b96da6053ad)\n"
          ]
        },
        {
          "data": {
            "application/vnd.jupyter.widget-view+json": {
              "model_id": "f92f9b2e02ec4f6eb7faa71805ecea7b",
              "version_major": 2,
              "version_minor": 0
            },
            "text/plain": [
              "  0%|          | 0/3 [00:00<?, ?it/s]"
            ]
          },
          "metadata": {},
          "output_type": "display_data"
        },
        {
          "name": "stderr",
          "output_type": "stream",
          "text": [
            "Found cached dataset imdb (C:/Users/ranax/.cache/huggingface/datasets/imdb/plain_text/1.0.0/2fdd8b9bcadd6e7055e742a706876ba43f19faee861df134affd7a3f60fc38a1)\n"
          ]
        },
        {
          "data": {
            "application/vnd.jupyter.widget-view+json": {
              "model_id": "b5cf3b5f03f24273bbcb497541f65487",
              "version_major": 2,
              "version_minor": 0
            },
            "text/plain": [
              "  0%|          | 0/3 [00:00<?, ?it/s]"
            ]
          },
          "metadata": {},
          "output_type": "display_data"
        },
        {
          "name": "stderr",
          "output_type": "stream",
          "text": [
            "Using custom data configuration default-6eb34d755e71b2e0\n",
            "Found cached dataset csv (C:/Users/ranax/.cache/huggingface/datasets/csv/default-6eb34d755e71b2e0/0.0.0/652c3096f041ee27b04d2232d41f10547a8fecda3e284a79a0ec4053c916ef7a)\n"
          ]
        },
        {
          "data": {
            "application/vnd.jupyter.widget-view+json": {
              "model_id": "04bf8a877d8a4ee485c38760b5d40fb6",
              "version_major": 2,
              "version_minor": 0
            },
            "text/plain": [
              "  0%|          | 0/1 [00:00<?, ?it/s]"
            ]
          },
          "metadata": {},
          "output_type": "display_data"
        }
      ],
      "source": [
        "actual_task = \"mnli\" if task == \"mnli-mm\" else task\n",
        "dataset = load_dataset(\"glue\", actual_task)\n",
        "metric = load(\"glue\", actual_task)\n",
        "\n",
        "from datasets import load_dataset\n",
        "\n",
        "imdb = load_dataset(\"imdb\")\n",
        "paragraph_data = load_dataset(\"csv\", data_files=\"C:/Study/Master Thesis/expaai_model/tmp/cleaned_data_with_labels_150k.csv\")"
      ]
    },
    {
      "cell_type": "code",
      "execution_count": 11,
      "metadata": {},
      "outputs": [
        {
          "name": "stderr",
          "output_type": "stream",
          "text": [
            "Loading cached shuffled indices for dataset at C:/Users/ranax/.cache/huggingface/datasets/csv/default-6eb34d755e71b2e0/0.0.0/652c3096f041ee27b04d2232d41f10547a8fecda3e284a79a0ec4053c916ef7a\\cache-5277d19adc6a41df.arrow\n"
          ]
        }
      ],
      "source": [
        "paragraph_data_randomized = paragraph_data[\"train\"].shuffle(seed=42)\n",
        "paragraph_data_randomized_rows = paragraph_data.num_rows['train']\n",
        "train_end = round(paragraph_data_randomized_rows * 0.80) #take atleast 80% samples for training\n",
        "\n",
        "paragraph_train_dataset = paragraph_data_randomized.select([i for i in list(range(train_end))])\n",
        "paragraph_test_dataset = paragraph_data_randomized.select([i for i in list(range(train_end, paragraph_data_randomized_rows))])"
      ]
    },
    {
      "cell_type": "code",
      "execution_count": 12,
      "metadata": {},
      "outputs": [
        {
          "name": "stderr",
          "output_type": "stream",
          "text": [
            "Loading cached shuffled indices for dataset at C:/Users/ranax/.cache/huggingface/datasets/imdb/plain_text/1.0.0/2fdd8b9bcadd6e7055e742a706876ba43f19faee861df134affd7a3f60fc38a1\\cache-8a9e43a6ac4acdff.arrow\n",
            "Loading cached shuffled indices for dataset at C:/Users/ranax/.cache/huggingface/datasets/imdb/plain_text/1.0.0/2fdd8b9bcadd6e7055e742a706876ba43f19faee861df134affd7a3f60fc38a1\\cache-2eff9f118d84c6fe.arrow\n"
          ]
        },
        {
          "name": "stdout",
          "output_type": "stream",
          "text": [
            "Dataset({\n",
            "    features: ['text', 'label'],\n",
            "    num_rows: 3000\n",
            "})\n"
          ]
        }
      ],
      "source": [
        "small_train_dataset = imdb[\"train\"].shuffle(seed=42).select([i for i in list(range(3000))])\n",
        "small_test_dataset = imdb[\"test\"].shuffle(seed=42).select([i for i in list(range(3000))])\n",
        "print(small_train_dataset)"
      ]
    },
    {
      "cell_type": "markdown",
      "metadata": {
        "id": "RzfPtOMoIrIu"
      },
      "source": [
        "The `dataset` object itself is [`DatasetDict`](https://huggingface.co/docs/datasets/package_reference/main_classes.html#datasetdict), which contains one key for the training, validation and test set (with more keys for the mismatched validation and test set in the special case of `mnli`)."
      ]
    },
    {
      "cell_type": "code",
      "execution_count": 13,
      "metadata": {
        "id": "GWiVUF0jIrIv",
        "outputId": "35e3ea43-f397-4a54-c90c-f2cf8d36873e"
      },
      "outputs": [
        {
          "data": {
            "text/plain": [
              "DatasetDict({\n",
              "    train: Dataset({\n",
              "        features: ['sentence', 'label', 'idx'],\n",
              "        num_rows: 67349\n",
              "    })\n",
              "    validation: Dataset({\n",
              "        features: ['sentence', 'label', 'idx'],\n",
              "        num_rows: 872\n",
              "    })\n",
              "    test: Dataset({\n",
              "        features: ['sentence', 'label', 'idx'],\n",
              "        num_rows: 1821\n",
              "    })\n",
              "})"
            ]
          },
          "execution_count": 13,
          "metadata": {},
          "output_type": "execute_result"
        }
      ],
      "source": [
        "dataset"
      ]
    },
    {
      "cell_type": "markdown",
      "metadata": {
        "id": "u3EtYfeHIrIz"
      },
      "source": [
        "To access an actual element, you need to select a split first, then give an index:"
      ]
    },
    {
      "cell_type": "code",
      "execution_count": 14,
      "metadata": {
        "id": "X6HrpprwIrIz",
        "outputId": "d7670bc0-42e4-4c09-8a6a-5c018ded7d95"
      },
      "outputs": [
        {
          "data": {
            "text/plain": [
              "{'sentence': 'hide new secretions from the parental units ',\n",
              " 'label': 0,\n",
              " 'idx': 0}"
            ]
          },
          "execution_count": 14,
          "metadata": {},
          "output_type": "execute_result"
        }
      ],
      "source": [
        "dataset[\"train\"][0]"
      ]
    },
    {
      "cell_type": "markdown",
      "metadata": {
        "id": "WHUmphG3IrI3"
      },
      "source": [
        "To get a sense of what the data looks like, the following function will show some examples picked randomly in the dataset."
      ]
    },
    {
      "cell_type": "code",
      "execution_count": 15,
      "metadata": {
        "id": "i3j8APAoIrI3"
      },
      "outputs": [],
      "source": [
        "import datasets\n",
        "import random\n",
        "import pandas as pd\n",
        "from IPython.display import display, HTML\n",
        "\n",
        "\n",
        "def show_random_elements(dataset, num_examples=10):\n",
        "    assert num_examples <= len(\n",
        "        dataset\n",
        "    ), \"Can't pick more elements than there are in the dataset.\"\n",
        "    picks = []\n",
        "    for _ in range(num_examples):\n",
        "        pick = random.randint(0, len(dataset) - 1)\n",
        "        while pick in picks:\n",
        "            pick = random.randint(0, len(dataset) - 1)\n",
        "        picks.append(pick)\n",
        "\n",
        "    df = pd.DataFrame(dataset[picks])\n",
        "    for column, typ in dataset.features.items():\n",
        "        if isinstance(typ, datasets.ClassLabel):\n",
        "            df[column] = df[column].transform(lambda i: typ.names[i])\n",
        "    display(HTML(df.to_html()))"
      ]
    },
    {
      "cell_type": "code",
      "execution_count": 16,
      "metadata": {
        "id": "SZy5tRB_IrI7",
        "outputId": "ba8f2124-e485-488f-8c0c-254f34f24f13"
      },
      "outputs": [
        {
          "data": {
            "text/html": [
              "<table border=\"1\" class=\"dataframe\">\n",
              "  <thead>\n",
              "    <tr style=\"text-align: right;\">\n",
              "      <th></th>\n",
              "      <th>text</th>\n",
              "      <th>label</th>\n",
              "    </tr>\n",
              "  </thead>\n",
              "  <tbody>\n",
              "    <tr>\n",
              "      <th>0</th>\n",
              "      <td>According to an aspect of the present disclosure, the evaluation information provision system selects feature data from a plurality of motion data associated with an attribute, based on the statistical distance for motion data associated with the attribute, and then calculates a score of the user for the assigned attribute using the selected feature data and the user\\'s motion data.', 'With this configuration, the feature data to be selected changes according to which kind of motion data is stored as the subject\\'s motion data, and the calculated score changes accordingly. Therefore, the evaluation information provision system evaluates the user\\'s motion with various references.</td>\n",
              "      <td>1</td>\n",
              "    </tr>\n",
              "    <tr>\n",
              "      <th>1</th>\n",
              "      <td>Unfortunately, the techniques of algal biomass production disclosed in PTLs 1 to 4 and NPLs 1 to 3 still need improvements in productivity. For example, biomass production involving culture of an alga under heterotrophic conditions where acetic acid serves as a carbon source requires a step of nutrient restriction, such as a step of providing a nitrogen-deficient condition, for inducing biomass production and accumulation in the alga. Algae are generally grown in a nitrogen-containing culture medium, and providing the nitrogen-deficient condition requires replacement of the culture medium with a nitrogen-free culture medium. It complicates the process, resulting in reduced productivity and increased costs. PTL 5 provides a solution to the issue, but the solution still has room for improvement in productivity.', 'The present invention was conceived as a solution to the existing issues, that is, an object of the invention is to provide a novel modified alga that can achieve increased biomass productivity, and use of the alga.</td>\n",
              "      <td>2</td>\n",
              "    </tr>\n",
              "    <tr>\n",
              "      <th>2</th>\n",
              "      <td>A patterning method according to the present invention includes', 'placing a photocurable composition on a substrate (placement step),', 'bringing the photocurable composition into contact with a mold having an uneven pattern (mold contact step),', 'irradiating the photocurable composition with light to form a cured film (photoirradiation step),', 'separating the cured film from the mold (demolding step),', 'forming a reverse layer on the cured film to which the uneven pattern of the mold has been transferred (reverse layer forming step).', 'while recessed portions of the uneven pattern of the cured film are filled with the reverse layer, removing part of the reverse layer to expose raised portions of the uneven pattern (reverse layer partial removal step), and', 'etching the photocurable composition layer to form a reverse pattern using the reverse layer in the recessed portions as a mask (etching step),', 'wherein the photocurable composition contains at least a polymerizable compound (A) component and a photopolymerization initiator (B) component,', 'the (A) component has a mole fraction weighted average molecular weight of 200 or more and 1000 or less,', 'and the (A) component has an Ohnishi parameter (OP) of 3.80 or more.', 'The Ohnishi parameter (OP) of the (A) component is a mole fraction weighted average of N/(NC−NO), N denotes a total number of atoms in a molecule, NC denotes a number of carbon atoms in the molecule, and NO denotes a number of oxygen atoms in the molecule.', 'Further features of the present invention will become apparent from the following description of exemplary embodiments with reference to the attached drawings.</td>\n",
              "      <td>0</td>\n",
              "    </tr>\n",
              "    <tr>\n",
              "      <th>3</th>\n",
              "      <td>The rail cooling method according to the present invention can surely prevent warp of a rail when the rail is cooled to ambient temperature.</td>\n",
              "      <td>1</td>\n",
              "    </tr>\n",
              "    <tr>\n",
              "      <th>4</th>\n",
              "      <td>In accordance with the present invention, the first shaft and the second shaft are connected coaxially, and the expansion lumen and the guide wire lumen are formed in each of the shafts. Accordingly, there are advantages in that a surgical procedure becomes facilitated and pushability is improved because the diameter of the shaft is generally reduced.', 'Furthermore, there is an advantage in that the time taken to expand and contract a balloon can be reduced because the diameter of the expansion lumen is relatively increased due to only one lumen present in a single shaft.</td>\n",
              "      <td>1</td>\n",
              "    </tr>\n",
              "    <tr>\n",
              "      <th>5</th>\n",
              "      <td>The present invention can provide an imaging apparatus capable of accurately detecting shakes (image rotation) in a rolling direction of an image caused by the camera shake or the like during image-shooting without being influenced by individual variations, temperature characteristics or aging of the sensors.</td>\n",
              "      <td>1</td>\n",
              "    </tr>\n",
              "    <tr>\n",
              "      <th>6</th>\n",
              "      <td>Existing portable ultrasonic diagnostic apparatuses generate pulse signals with maximum voltages which are uniform regardless of depths for measurement and use pulse signals with the same maximum voltages when measurement is performed at shallower depths. Due to this, since high loads are applied to a battery end and a circuit portion, power efficiency is not high.', 'Therefore, it is an aspect of the present invention to provide a portable ultrasonic diagnostic apparatus capable of improving power efficiency by adjusting a voltage of a pulse signal depending on a depth for measurement and a method of improving power efficiency of the portable ultrasonic diagnostic apparatus.</td>\n",
              "      <td>2</td>\n",
              "    </tr>\n",
              "    <tr>\n",
              "      <th>7</th>\n",
              "      <td>In the throttle control device, the throttle wire is inserted into the tube so that an external force is not directly applied thereto, as disclosed in each patent document. However, in the conventional portable brush cutter, the guide path for the throttle wire extending from the throttle control lever to the engine is long. Therefore, if the tube protecting the throttle wire is folded somewhere along the path or an external force is applied thereto, the throttle wire may be pulled together with the tube, thereby opening the throttle valve, which may result in an unintended output change of the engine.', 'In order to prevent the described situation, the tube may be fixed to the crank case or the like to avoid unintentional pulling of the tube. However, this requires an additional member such as a double nut for fixing the tube, and this in turn increases costs and causes trouble in assembly.', 'The present invention is designed in consideration of the above, and an object of the present invention is to provide a throttle control device with a simple structure, which prevents unintended pulling of the throttle wire, caused by an external force applied thereto, without providing an additional member.</td>\n",
              "      <td>2</td>\n",
              "    </tr>\n",
              "    <tr>\n",
              "      <th>8</th>\n",
              "      <td>Accordingly, an object of the present invention is to provide a wire harness assembly configured to be lightweight while reducing burden on a first control device, and to provide a lighting unit including the wire harness assembly.</td>\n",
              "      <td>2</td>\n",
              "    </tr>\n",
              "    <tr>\n",
              "      <th>9</th>\n",
              "      <td>The steel for steel tubes according to the present invention is excellent in cleanliness with fewer harmful coarse inclusions, usable as a steel material for steel tubes, and casings, tubing, excavating drill pipes, drill collars, etc. for oil well or natural gas well, excellent particularly in SSC resistance while having predetermined strength and toughness, and easy to be produced and controlled.</td>\n",
              "      <td>1</td>\n",
              "    </tr>\n",
              "  </tbody>\n",
              "</table>"
            ],
            "text/plain": [
              "<IPython.core.display.HTML object>"
            ]
          },
          "metadata": {},
          "output_type": "display_data"
        }
      ],
      "source": [
        "show_random_elements(paragraph_train_dataset)"
      ]
    },
    {
      "cell_type": "markdown",
      "metadata": {
        "id": "lnjDIuQ3IrI-"
      },
      "source": [
        "The metric is an instance of [`datasets.Metric`](https://huggingface.co/docs/datasets/package_reference/main_classes.html#datasets.Metric):"
      ]
    },
    {
      "cell_type": "code",
      "execution_count": 17,
      "metadata": {
        "id": "5o4rUteaIrI_",
        "outputId": "18038ef5-554c-45c5-e00a-133b02ec10f1"
      },
      "outputs": [
        {
          "data": {
            "text/plain": [
              "EvaluationModule(name: \"glue\", module_type: \"metric\", features: {'predictions': Value(dtype='int64', id=None), 'references': Value(dtype='int64', id=None)}, usage: \"\"\"\n",
              "Compute GLUE evaluation metric associated to each GLUE dataset.\n",
              "Args:\n",
              "    predictions: list of predictions to score.\n",
              "        Each translation should be tokenized into a list of tokens.\n",
              "    references: list of lists of references for each translation.\n",
              "        Each reference should be tokenized into a list of tokens.\n",
              "Returns: depending on the GLUE subset, one or several of:\n",
              "    \"accuracy\": Accuracy\n",
              "    \"f1\": F1 score\n",
              "    \"pearson\": Pearson Correlation\n",
              "    \"spearmanr\": Spearman Correlation\n",
              "    \"matthews_correlation\": Matthew Correlation\n",
              "Examples:\n",
              "\n",
              "    >>> glue_metric = evaluate.load('glue', 'sst2')  # 'sst2' or any of [\"mnli\", \"mnli_mismatched\", \"mnli_matched\", \"qnli\", \"rte\", \"wnli\", \"hans\"]\n",
              "    >>> references = [0, 1]\n",
              "    >>> predictions = [0, 1]\n",
              "    >>> results = glue_metric.compute(predictions=predictions, references=references)\n",
              "    >>> print(results)\n",
              "    {'accuracy': 1.0}\n",
              "\n",
              "    >>> glue_metric = evaluate.load('glue', 'mrpc')  # 'mrpc' or 'qqp'\n",
              "    >>> references = [0, 1]\n",
              "    >>> predictions = [0, 1]\n",
              "    >>> results = glue_metric.compute(predictions=predictions, references=references)\n",
              "    >>> print(results)\n",
              "    {'accuracy': 1.0, 'f1': 1.0}\n",
              "\n",
              "    >>> glue_metric = evaluate.load('glue', 'stsb')\n",
              "    >>> references = [0., 1., 2., 3., 4., 5.]\n",
              "    >>> predictions = [0., 1., 2., 3., 4., 5.]\n",
              "    >>> results = glue_metric.compute(predictions=predictions, references=references)\n",
              "    >>> print({\"pearson\": round(results[\"pearson\"], 2), \"spearmanr\": round(results[\"spearmanr\"], 2)})\n",
              "    {'pearson': 1.0, 'spearmanr': 1.0}\n",
              "\n",
              "    >>> glue_metric = evaluate.load('glue', 'cola')\n",
              "    >>> references = [0, 1]\n",
              "    >>> predictions = [0, 1]\n",
              "    >>> results = glue_metric.compute(predictions=predictions, references=references)\n",
              "    >>> print(results)\n",
              "    {'matthews_correlation': 1.0}\n",
              "\"\"\", stored examples: 0)"
            ]
          },
          "execution_count": 17,
          "metadata": {},
          "output_type": "execute_result"
        }
      ],
      "source": [
        "metric"
      ]
    },
    {
      "cell_type": "markdown",
      "metadata": {
        "id": "jAWdqcUBIrJC"
      },
      "source": [
        "You can call its `compute` method with your predictions and labels directly and it will return a dictionary with the metric(s) value:"
      ]
    },
    {
      "cell_type": "code",
      "execution_count": 19,
      "metadata": {
        "id": "6XN1Rq0aIrJC",
        "outputId": "a4405435-a8a9-41ff-9f79-a13077b587c7"
      },
      "outputs": [
        {
          "data": {
            "text/plain": [
              "{'accuracy': 0.53125}"
            ]
          },
          "execution_count": 19,
          "metadata": {},
          "output_type": "execute_result"
        }
      ],
      "source": [
        "import numpy as np\n",
        "\n",
        "fake_preds = np.random.randint(0, 2, size=(64,))\n",
        "fake_labels = np.random.randint(0, 2, size=(64,))\n",
        "metric.compute(predictions=fake_preds, references=fake_labels)"
      ]
    },
    {
      "cell_type": "markdown",
      "metadata": {
        "id": "YOCrQwPoIrJG"
      },
      "source": [
        "Note that `load` has loaded the proper metric associated to your task, which is:\n",
        "\n",
        "- for CoLA: [Matthews Correlation Coefficient](https://en.wikipedia.org/wiki/Matthews_correlation_coefficient)\n",
        "- for MNLI (matched or mismatched): Accuracy\n",
        "- for MRPC: Accuracy and [F1 score](https://en.wikipedia.org/wiki/F1_score)\n",
        "- for QNLI: Accuracy\n",
        "- for QQP: Accuracy and [F1 score](https://en.wikipedia.org/wiki/F1_score)\n",
        "- for RTE: Accuracy\n",
        "- for SST-2: Accuracy\n",
        "- for STS-B: [Pearson Correlation Coefficient](https://en.wikipedia.org/wiki/Pearson_correlation_coefficient) and [Spearman's_Rank_Correlation_Coefficient](https://en.wikipedia.org/wiki/Spearman%27s_rank_correlation_coefficient)\n",
        "- for WNLI: Accuracy\n",
        "\n",
        "so the metric object only computes the one(s) needed for your task."
      ]
    },
    {
      "cell_type": "markdown",
      "metadata": {
        "id": "n9qywopnIrJH"
      },
      "source": [
        "## Preprocessing the data"
      ]
    },
    {
      "cell_type": "markdown",
      "metadata": {
        "id": "YVx71GdAIrJH"
      },
      "source": [
        "Before we can feed those texts to our model, we need to preprocess them. This is done by a 🤗 Transformers `Tokenizer` which will (as the name indicates) tokenize the inputs (including converting the tokens to their corresponding IDs in the pretrained vocabulary) and put it in a format the model expects, as well as generate the other inputs that model requires.\n",
        "\n",
        "To do all of this, we instantiate our tokenizer with the `AutoTokenizer.from_pretrained` method, which will ensure:\n",
        "\n",
        "- we get a tokenizer that corresponds to the model architecture we want to use,\n",
        "- we download the vocabulary used when pretraining this specific checkpoint.\n",
        "\n",
        "That vocabulary will be cached, so it's not downloaded again the next time we run the cell."
      ]
    },
    {
      "cell_type": "code",
      "execution_count": 20,
      "metadata": {
        "id": "eXNLu_-nIrJI"
      },
      "outputs": [],
      "source": [
        "from transformers import AutoTokenizer\n",
        "\n",
        "tokenizer = AutoTokenizer.from_pretrained(\"distilbert-base-uncased\")"
      ]
    },
    {
      "cell_type": "markdown",
      "metadata": {
        "id": "rowT4iCLIrJK"
      },
      "source": [
        "You can directly call this tokenizer on one sentence or a pair of sentences:"
      ]
    },
    {
      "cell_type": "code",
      "execution_count": 21,
      "metadata": {
        "id": "a5hBlsrHIrJL",
        "outputId": "acdaa98a-a8cd-4a20-89b8-cc26437bbe90"
      },
      "outputs": [
        {
          "data": {
            "text/plain": [
              "{'input_ids': [101, 7592, 1010, 2023, 2003, 1037, 6251, 999, 102, 1998, 2023, 6251, 3632, 2007, 2009, 1012, 102], 'attention_mask': [1, 1, 1, 1, 1, 1, 1, 1, 1, 1, 1, 1, 1, 1, 1, 1, 1]}"
            ]
          },
          "execution_count": 21,
          "metadata": {},
          "output_type": "execute_result"
        }
      ],
      "source": [
        "tokenizer(\"Hello, this is a sentence!\", \"And this sentence goes with it.\")"
      ]
    },
    {
      "cell_type": "markdown",
      "metadata": {
        "id": "qo_0B1M2IrJM"
      },
      "source": [
        "Depending on the model you selected, you will see different keys in the dictionary returned by the cell above. They don't matter much for what we're doing here (just know they are required by the model we will instantiate later), you can learn more about them in [this tutorial](https://huggingface.co/transformers/preprocessing.html) if you're interested.\n",
        "\n",
        "To preprocess our dataset, we will thus need the names of the columns containing the sentence(s). The following dictionary keeps track of the correspondence task to column names:"
      ]
    },
    {
      "cell_type": "code",
      "execution_count": 22,
      "metadata": {
        "id": "fyGdtK9oIrJM"
      },
      "outputs": [],
      "source": [
        "task_to_keys = {\n",
        "    \"cola\": (\"sentence\", None),\n",
        "    \"mnli\": (\"premise\", \"hypothesis\"),\n",
        "    \"mnli-mm\": (\"premise\", \"hypothesis\"),\n",
        "    \"mrpc\": (\"sentence1\", \"sentence2\"),\n",
        "    \"qnli\": (\"question\", \"sentence\"),\n",
        "    \"qqp\": (\"question1\", \"question2\"),\n",
        "    \"rte\": (\"sentence1\", \"sentence2\"),\n",
        "    \"sst2\": (\"text\", None),\n",
        "    \"stsb\": (\"sentence1\", \"sentence2\"),\n",
        "    \"wnli\": (\"sentence1\", \"sentence2\"),\n",
        "}"
      ]
    },
    {
      "cell_type": "markdown",
      "metadata": {
        "id": "xbqtC4MrIrJO"
      },
      "source": [
        "We can double check it does work on our current dataset:"
      ]
    },
    {
      "cell_type": "code",
      "execution_count": 23,
      "metadata": {
        "id": "19GG646uIrJO",
        "outputId": "0cb4a520-817e-4f92-8de8-bb45df367657"
      },
      "outputs": [
        {
          "name": "stdout",
          "output_type": "stream",
          "text": [
            "Sentence: According to one aspect of the present invention, it is possible to reduce the switching losses when turning-on of the switching elements and thereby to reduce the total loss of the upper and lower arms.\n"
          ]
        }
      ],
      "source": [
        "sentence1_key, sentence2_key = task_to_keys[task]\n",
        "if sentence2_key is None:\n",
        "    print(f\"Sentence: {paragraph_train_dataset[0][sentence1_key]}\")\n",
        "else:\n",
        "    print(f\"Sentence 1: {dataset['train'][0][sentence1_key]}\")\n",
        "    print(f\"Sentence 2: {dataset['train'][0][sentence2_key]}\")"
      ]
    },
    {
      "cell_type": "markdown",
      "metadata": {
        "id": "2C0hcmp9IrJQ"
      },
      "source": [
        "We can them write the function that will preprocess our samples. We just feed them to the `tokenizer` with the arguments `truncation=True` and `padding='longest`. This will ensure that an input longer that what the model selected can handle will be truncated to the maximum length accepted by the model, and all inputs will be padded to the maximum input length to give us a single input array. A more performant method that reduces the number of padding tokens is to write a generator or `tf.data.Dataset` to only pad each *batch* to the maximum length in that batch, but most GLUE tasks are relatively quick on modern GPUs either way."
      ]
    },
    {
      "cell_type": "code",
      "execution_count": 24,
      "metadata": {
        "id": "vc0BSBLIIrJQ"
      },
      "outputs": [],
      "source": [
        "def preprocess_function(examples):\n",
        "    if sentence2_key is None:\n",
        "        return tokenizer(examples[sentence1_key], truncation=True)\n",
        "    return tokenizer(examples[sentence1_key], examples[sentence2_key], truncation=True)"
      ]
    },
    {
      "cell_type": "markdown",
      "metadata": {
        "id": "0lm8ozrJIrJR"
      },
      "source": [
        "This function works with one or several examples. In the case of several examples, the tokenizer will return a list of lists for each key:"
      ]
    },
    {
      "cell_type": "code",
      "execution_count": 25,
      "metadata": {
        "id": "-b70jh26IrJS",
        "outputId": "acd3a42d-985b-44ee-9daa-af5d944ce1d9"
      },
      "outputs": [
        {
          "data": {
            "text/plain": [
              "{'input_ids': [[101, 2429, 2000, 2028, 7814, 1997, 1996, 2556, 11028, 1010, 2009, 2003, 2825, 2000, 5547, 1996, 11991, 6409, 2043, 3810, 1011, 2006, 1997, 1996, 11991, 3787, 1998, 8558, 2000, 5547, 1996, 2561, 3279, 1997, 1996, 3356, 1998, 2896, 2608, 1012, 102], [101, 2174, 1010, 1037, 8552, 1010, 2051, 1011, 1998, 4450, 1011, 15077, 3169, 2003, 3223, 2000, 5587, 2019, 2592, 8131, 3853, 2000, 1037, 5013, 1011, 5533, 11224, 23663, 2099, 2030, 2000, 2599, 2041, 1037, 4742, 2240, 2000, 1996, 2648, 2011, 1996, 2682, 1011, 2649, 4118, 1012, 11914, 1010, 2009, 2038, 2042, 9059, 2000, 10956, 1996, 3169, 1997, 5815, 2019, 2592, 8131, 3853, 2000, 1037, 5013, 1011, 5533, 11224, 23663, 2099, 2030, 1996, 3169, 1997, 2877, 2041, 1037, 4742, 2240, 2000, 1996, 2648, 1012, 1005, 1010, 1005, 11914, 1010, 2019, 4874, 1997, 1996, 2556, 11028, 2003, 2000, 9585, 1037, 4742, 2240, 2000, 2022, 2419, 2041, 2013, 2019, 4493, 5013, 1011, 5533, 11224, 23663, 2099, 2011, 1037, 3722, 3169, 1012, 102], [101, 1015, 2019, 7814, 1997, 1996, 11028, 2038, 2042, 2081, 2005, 13729, 1996, 2682, 1011, 2649, 3291, 1012, 2429, 2000, 1037, 2034, 7814, 1997, 1996, 2556, 11028, 1010, 2045, 2003, 3024, 1037, 5536, 5080, 2029, 2950, 1037, 6726, 3131, 2008, 19818, 2015, 5292, 2099, 4160, 3433, 2592, 2000, 1037, 2034, 3529, 3526, 1998, 1037, 2117, 3529, 3526, 2006, 1037, 3558, 2039, 13767, 4207, 3149, 1999, 1037, 4942, 15643, 1050, 1012, 1996, 3558, 2039, 13767, 4207, 3149, 2003, 11860, 2241, 2006, 1037, 3558, 2091, 13767, 2491, 3149, 2030, 2019, 9412, 3558, 2091, 13767, 2491, 3149, 2029, 2003, 11156, 1999, 1037, 2110, 1997, 2164, 1037, 2091, 13767, 2491, 2592, 4289, 1014, 1013, 1018, 1012, 2048, 2030, 2062, 3529, 4442, 2024, 26928, 1999, 1996, 5536, 5080, 1010, 1999, 1037, 2553, 2073, 4853, 4552, 4127, 1997, 2151, 2048, 26928, 3529, 4442, 2024, 2367, 2013, 2169, 2060, 1010, 1998, 1999, 1037, 2553, 2073, 1037, 3078, 3526, 2038, 4853, 4552, 2828, 1016, 1010, 4647, 19422, 2003, 4162, 2000, 1996, 2034, 3529, 3526, 1997, 4853, 4552, 2828, 1016, 2011, 2478, 1996, 2206, 3670, 1006, 1015, 1007, 1010, 1998, 2003, 4162, 2000, 1996, 2117, 3529, 3526, 1997, 4853, 4552, 2828, 1015, 2011, 2478, 1996, 2206, 3670, 1006, 1016, 1007, 1012, 1005, 1010, 1005, 8785, 1012, 1015, 102], [101, 1996, 12392, 14902, 2003, 17453, 3858, 2011, 1996, 5257, 1997, 18295, 1010, 11320, 10020, 25949, 1010, 20332, 14902, 1998, 2061, 2006, 1010, 1998, 2045, 2038, 2042, 1037, 2152, 11765, 2000, 4792, 1037, 6773, 2143, 1997, 2152, 18295, 1012, 1999, 13109, 15495, 1037, 6315, 3430, 13061, 9898, 2011, 2478, 1037, 16153, 5080, 2383, 16153, 2865, 1010, 2045, 2003, 1037, 2236, 11765, 2008, 1996, 2051, 3223, 2005, 13109, 15495, 2003, 2460, 2043, 1996, 4254, 4162, 2000, 1996, 6315, 3430, 13061, 9898, 2013, 1996, 16153, 2865, 2003, 2844, 1010, 6168, 1996, 2051, 3223, 2005, 13109, 15495, 2003, 2936, 2043, 1996, 4254, 2003, 5410, 1012, 1005, 1010, 1005, 2005, 5155, 13061, 13109, 20060, 1006, 2036, 3615, 2000, 2004, 1523, 13061, 13109, 13808, 28815, 1524, 1007, 2008, 2507, 1037, 6773, 2143, 1997, 2152, 18295, 2004, 2649, 2682, 1010, 2019, 3921, 1997, 5744, 7406, 1996, 3302, 1997, 1996, 13061, 13109, 20060, 1010, 1998, 2019, 3921, 1997, 26402, 2075, 13311, 1997, 13061, 13109, 20060, 2349, 2000, 2844, 12365, 2007, 1996, 16153, 2865, 2024, 3818, 1012, 1005, 1010, 1005, 2004, 2019, 3921, 2367, 2013, 1996, 3921, 1997, 4852, 1996, 18295, 3701, 2011, 5278, 1996, 16153, 2865, 1010, 5278, 1996, 23735, 2005, 2224, 1999, 2537, 1997, 13061, 13109, 20060, 1006, 2036, 3615, 2000, 2004, 1523, 16153, 23735, 1524, 1007, 2003, 4146, 1012, 1005, 1010, 1005, 2083, 7749, 1997, 2536, 23735, 2015, 1010, 12235, 2015, 1997, 1996, 2556, 4646, 14153, 2179, 2008, 13061, 13109, 20060, 2383, 3020, 18295, 4102, 2007, 2216, 6855, 3085, 2011, 7511, 4725, 2064, 2022, 4663, 2011, 2478, 1010, 2004, 1037, 16153, 23735, 1010, 2019, 7554, 23735, 4820, 2019, 25496, 18479, 26190, 2004, 1037, 2364, 21774, 2738, 2084, 2478, 1010, 2004, 1037, 16153, 23735, 1010, 2019, 7554, 23735, 4820, 2019, 4862, 21890, 4588, 18479, 26190, 1006, 4050, 9754, 4382, 1007, 2004, 1037, 2364, 21774, 2008, 2003, 2030, 18979, 11272, 2109, 1012, 2023, 2003, 2012, 18886, 8569, 10880, 2000, 1996, 2755, 2008, 2011, 2478, 1037, 23735, 4820, 2019, 25496, 18479, 26190, 2004, 1037, 2364, 21774, 1010, 1996, 9898, 2075, 4254, 4162, 2000, 1996, 13061, 13109, 20060, 2013, 1996, 16153, 2865, 2003, 11855, 1998, 13311, 1997, 1996, 13061, 13109, 20060, 2064, 2022, 4758, 1012, 1005, 1010, 1005, 2174, 1010, 2043, 1996, 7554, 23735, 4820, 2019, 25496, 18479, 26190, 2004, 1037, 2364, 21774, 2003, 2109, 2004, 1996, 16153, 23735, 1010, 14017, 12083, 15148, 1997, 19101, 12737, 2107, 2004, 15589, 2594, 5648, 1998, 26261, 8486, 2278, 5648, 1999, 1996, 16153, 23735, 7457, 1999, 7831, 2007, 1996, 2553, 2073, 2019, 7554, 23735, 4820, 2019, 4862, 21890, 4588, 18479, 26190, 2004, 1037, 2364, 21774, 1006, 4050, 9754, 4382, 1007, 2003, 2109, 1012, 19101, 12737, 2107, 2004, 15589, 2594, 5648, 1998, 26261, 8486, 2278, 5648, 2024, 2794, 2004, 1037, 16153, 4681, 2012, 1996, 2051, 1997, 13109, 15495, 1006, 16153, 1007, 1010, 1998, 25276, 2000, 1996, 3302, 1997, 1996, 13061, 13109, 20060, 2044, 4195, 1997, 13109, 20060, 2000, 2377, 4395, 1997, 17727, 8445, 2075, 5903, 12139, 2000, 1996, 13061, 13109, 20060, 1010, 26402, 2075, 28041, 1010, 1998, 8650, 1996, 3302, 1997, 1996, 13061, 13109, 20060, 1012, 2174, 1010, 2065, 1996, 14017, 12083, 15148, 1997, 2122, 102], [101, 2429, 2000, 1996, 2556, 11028, 1010, 1996, 3169, 8122, 1997, 5266, 1996, 5830, 4434, 4664, 2064, 2022, 5301, 1012, 102]], 'attention_mask': [[1, 1, 1, 1, 1, 1, 1, 1, 1, 1, 1, 1, 1, 1, 1, 1, 1, 1, 1, 1, 1, 1, 1, 1, 1, 1, 1, 1, 1, 1, 1, 1, 1, 1, 1, 1, 1, 1, 1, 1, 1], [1, 1, 1, 1, 1, 1, 1, 1, 1, 1, 1, 1, 1, 1, 1, 1, 1, 1, 1, 1, 1, 1, 1, 1, 1, 1, 1, 1, 1, 1, 1, 1, 1, 1, 1, 1, 1, 1, 1, 1, 1, 1, 1, 1, 1, 1, 1, 1, 1, 1, 1, 1, 1, 1, 1, 1, 1, 1, 1, 1, 1, 1, 1, 1, 1, 1, 1, 1, 1, 1, 1, 1, 1, 1, 1, 1, 1, 1, 1, 1, 1, 1, 1, 1, 1, 1, 1, 1, 1, 1, 1, 1, 1, 1, 1, 1, 1, 1, 1, 1, 1, 1, 1, 1, 1, 1, 1, 1, 1, 1, 1, 1, 1, 1, 1, 1, 1, 1, 1], [1, 1, 1, 1, 1, 1, 1, 1, 1, 1, 1, 1, 1, 1, 1, 1, 1, 1, 1, 1, 1, 1, 1, 1, 1, 1, 1, 1, 1, 1, 1, 1, 1, 1, 1, 1, 1, 1, 1, 1, 1, 1, 1, 1, 1, 1, 1, 1, 1, 1, 1, 1, 1, 1, 1, 1, 1, 1, 1, 1, 1, 1, 1, 1, 1, 1, 1, 1, 1, 1, 1, 1, 1, 1, 1, 1, 1, 1, 1, 1, 1, 1, 1, 1, 1, 1, 1, 1, 1, 1, 1, 1, 1, 1, 1, 1, 1, 1, 1, 1, 1, 1, 1, 1, 1, 1, 1, 1, 1, 1, 1, 1, 1, 1, 1, 1, 1, 1, 1, 1, 1, 1, 1, 1, 1, 1, 1, 1, 1, 1, 1, 1, 1, 1, 1, 1, 1, 1, 1, 1, 1, 1, 1, 1, 1, 1, 1, 1, 1, 1, 1, 1, 1, 1, 1, 1, 1, 1, 1, 1, 1, 1, 1, 1, 1, 1, 1, 1, 1, 1, 1, 1, 1, 1, 1, 1, 1, 1, 1, 1, 1, 1, 1, 1, 1, 1, 1, 1, 1, 1, 1, 1, 1, 1, 1, 1, 1, 1, 1, 1, 1, 1, 1, 1, 1, 1, 1, 1, 1], [1, 1, 1, 1, 1, 1, 1, 1, 1, 1, 1, 1, 1, 1, 1, 1, 1, 1, 1, 1, 1, 1, 1, 1, 1, 1, 1, 1, 1, 1, 1, 1, 1, 1, 1, 1, 1, 1, 1, 1, 1, 1, 1, 1, 1, 1, 1, 1, 1, 1, 1, 1, 1, 1, 1, 1, 1, 1, 1, 1, 1, 1, 1, 1, 1, 1, 1, 1, 1, 1, 1, 1, 1, 1, 1, 1, 1, 1, 1, 1, 1, 1, 1, 1, 1, 1, 1, 1, 1, 1, 1, 1, 1, 1, 1, 1, 1, 1, 1, 1, 1, 1, 1, 1, 1, 1, 1, 1, 1, 1, 1, 1, 1, 1, 1, 1, 1, 1, 1, 1, 1, 1, 1, 1, 1, 1, 1, 1, 1, 1, 1, 1, 1, 1, 1, 1, 1, 1, 1, 1, 1, 1, 1, 1, 1, 1, 1, 1, 1, 1, 1, 1, 1, 1, 1, 1, 1, 1, 1, 1, 1, 1, 1, 1, 1, 1, 1, 1, 1, 1, 1, 1, 1, 1, 1, 1, 1, 1, 1, 1, 1, 1, 1, 1, 1, 1, 1, 1, 1, 1, 1, 1, 1, 1, 1, 1, 1, 1, 1, 1, 1, 1, 1, 1, 1, 1, 1, 1, 1, 1, 1, 1, 1, 1, 1, 1, 1, 1, 1, 1, 1, 1, 1, 1, 1, 1, 1, 1, 1, 1, 1, 1, 1, 1, 1, 1, 1, 1, 1, 1, 1, 1, 1, 1, 1, 1, 1, 1, 1, 1, 1, 1, 1, 1, 1, 1, 1, 1, 1, 1, 1, 1, 1, 1, 1, 1, 1, 1, 1, 1, 1, 1, 1, 1, 1, 1, 1, 1, 1, 1, 1, 1, 1, 1, 1, 1, 1, 1, 1, 1, 1, 1, 1, 1, 1, 1, 1, 1, 1, 1, 1, 1, 1, 1, 1, 1, 1, 1, 1, 1, 1, 1, 1, 1, 1, 1, 1, 1, 1, 1, 1, 1, 1, 1, 1, 1, 1, 1, 1, 1, 1, 1, 1, 1, 1, 1, 1, 1, 1, 1, 1, 1, 1, 1, 1, 1, 1, 1, 1, 1, 1, 1, 1, 1, 1, 1, 1, 1, 1, 1, 1, 1, 1, 1, 1, 1, 1, 1, 1, 1, 1, 1, 1, 1, 1, 1, 1, 1, 1, 1, 1, 1, 1, 1, 1, 1, 1, 1, 1, 1, 1, 1, 1, 1, 1, 1, 1, 1, 1, 1, 1, 1, 1, 1, 1, 1, 1, 1, 1, 1, 1, 1, 1, 1, 1, 1, 1, 1, 1, 1, 1, 1, 1, 1, 1, 1, 1, 1, 1, 1, 1, 1, 1, 1, 1, 1, 1, 1, 1, 1, 1, 1, 1, 1, 1, 1, 1, 1, 1, 1, 1, 1, 1, 1, 1, 1, 1, 1, 1, 1, 1, 1, 1, 1, 1, 1, 1, 1, 1, 1, 1, 1, 1, 1, 1, 1, 1, 1, 1, 1, 1, 1, 1, 1, 1, 1, 1, 1, 1, 1, 1, 1, 1, 1, 1, 1, 1, 1, 1, 1, 1, 1, 1, 1, 1, 1, 1, 1, 1, 1, 1, 1], [1, 1, 1, 1, 1, 1, 1, 1, 1, 1, 1, 1, 1, 1, 1, 1, 1, 1, 1, 1, 1]]}"
            ]
          },
          "execution_count": 25,
          "metadata": {},
          "output_type": "execute_result"
        }
      ],
      "source": [
        "preprocess_function(paragraph_train_dataset[:5])"
      ]
    },
    {
      "cell_type": "markdown",
      "metadata": {
        "id": "zS-6iXTkIrJT"
      },
      "source": [
        "To apply this function on all the sentences (or pairs of sentences) in our dataset, we just use the `map` method of our `dataset` object we created earlier. This will apply the function on all the elements of all the splits in `dataset`, so our training, validation and testing data will be preprocessed in one single command."
      ]
    },
    {
      "cell_type": "code",
      "execution_count": 26,
      "metadata": {
        "id": "DDtsaJeVIrJT",
        "outputId": "aa4734bf-4ef5-4437-9948-2c16363da719"
      },
      "outputs": [
        {
          "name": "stderr",
          "output_type": "stream",
          "text": [
            "Loading cached processed dataset at C:/Users/ranax/.cache/huggingface/datasets/csv/default-6eb34d755e71b2e0/0.0.0/652c3096f041ee27b04d2232d41f10547a8fecda3e284a79a0ec4053c916ef7a\\cache-a7012642cbee132a.arrow\n",
            "Loading cached processed dataset at C:/Users/ranax/.cache/huggingface/datasets/csv/default-6eb34d755e71b2e0/0.0.0/652c3096f041ee27b04d2232d41f10547a8fecda3e284a79a0ec4053c916ef7a\\cache-d569626411f5add9.arrow\n"
          ]
        },
        {
          "name": "stdout",
          "output_type": "stream",
          "text": [
            "Columns added by tokenizer: ['input_ids', 'attention_mask']\n"
          ]
        }
      ],
      "source": [
        "pre_tokenizer_columns = set(paragraph_train_dataset.features)\n",
        "encoded_dataset_train = paragraph_train_dataset.map(preprocess_function, batched=True)\n",
        "encoded_dataset_test = paragraph_test_dataset.map(preprocess_function, batched=True)\n",
        "tokenizer_columns = list(set(encoded_dataset_train.features) - pre_tokenizer_columns)\n",
        "print(\"Columns added by tokenizer:\", tokenizer_columns)"
      ]
    },
    {
      "cell_type": "code",
      "execution_count": 27,
      "metadata": {
        "id": "s00gJRkdPh7-",
        "outputId": "dd34fe8b-9add-4bcb-855d-83acc81e344b"
      },
      "outputs": [
        {
          "data": {
            "text/plain": [
              "Value(dtype='int64', id=None)"
            ]
          },
          "execution_count": 27,
          "metadata": {},
          "output_type": "execute_result"
        }
      ],
      "source": [
        "encoded_dataset_train.features[\"label\"]"
      ]
    },
    {
      "cell_type": "markdown",
      "metadata": {
        "id": "voWiw8C7IrJV"
      },
      "source": [
        "Even better, the results are automatically cached by the 🤗 Datasets library to avoid spending time on this step the next time you run your notebook. The 🤗 Datasets library is normally smart enough to detect when the function you pass to map has changed (and thus requires to not use the cache data). For instance, it will properly detect if you change the task in the first cell and rerun the notebook. 🤗 Datasets warns you when it uses cached files, you can pass `load_from_cache_file=False` in the call to `map` to not use the cached files and force the preprocessing to be applied again.\n",
        "\n",
        "Note that we passed `batched=True` to encode the texts by batches together. This is to leverage the full benefit of the fast tokenizer we loaded earlier, which will use multi-threading to treat the texts in a batch concurrently."
      ]
    },
    {
      "cell_type": "markdown",
      "metadata": {
        "id": "545PP3o8IrJV"
      },
      "source": [
        "## Fine-tuning the model"
      ]
    },
    {
      "cell_type": "markdown",
      "metadata": {
        "id": "FBiW8UpKIrJW"
      },
      "source": [
        "Now that our data is ready, we can download the pretrained model and fine-tune it. Since all our tasks are about sentence classification, we use the `TFAutoModelForSequenceClassification` class. Like with the tokenizer, the `from_pretrained` method will download and cache the model for us. The only thing we have to specify is the number of labels for our problem (which is always 2, except for STS-B which is a regression problem and MNLI where we have 3 labels)."
      ]
    },
    {
      "cell_type": "code",
      "execution_count": 28,
      "metadata": {
        "id": "TlqNaB8jIrJW",
        "outputId": "84916cf3-6e6c-47f3-d081-032ec30a4132"
      },
      "outputs": [
        {
          "name": "stderr",
          "output_type": "stream",
          "text": [
            "Some layers from the model checkpoint at distilbert-base-uncased were not used when initializing TFDistilBertForSequenceClassification: ['activation_13', 'vocab_transform', 'vocab_layer_norm', 'vocab_projector']\n",
            "- This IS expected if you are initializing TFDistilBertForSequenceClassification from the checkpoint of a model trained on another task or with another architecture (e.g. initializing a BertForSequenceClassification model from a BertForPreTraining model).\n",
            "- This IS NOT expected if you are initializing TFDistilBertForSequenceClassification from the checkpoint of a model that you expect to be exactly identical (initializing a BertForSequenceClassification model from a BertForSequenceClassification model).\n",
            "Some layers of TFDistilBertForSequenceClassification were not initialized from the model checkpoint at distilbert-base-uncased and are newly initialized: ['classifier', 'dropout_19', 'pre_classifier']\n",
            "You should probably TRAIN this model on a down-stream task to be able to use it for predictions and inference.\n"
          ]
        }
      ],
      "source": [
        "from transformers import TFAutoModelForSequenceClassification\n",
        "import tensorflow as tf\n",
        "\n",
        "num_labels = 3 if task.startswith(\"mnli\") else 1 if task == \"stsb\" else 2\n",
        "if task == \"stsb\":\n",
        "    num_labels = 1\n",
        "elif task.startswith(\"mnli\"):\n",
        "    num_labels = 3\n",
        "else:\n",
        "    num_labels = 2\n",
        "    \n",
        "# This next little bit is optional, but will give us cleaner label outputs later\n",
        "# If you're using a task other than CoLA, you will probably need to change these\n",
        "# to match the label names for your task!\n",
        "id2label = {0: \"0\", 1: \"1\", 2: \"2\"}\n",
        "label2id = {val: key for key, val in id2label.items()}\n",
        "\n",
        "# model = TFAutoModelForSequenceClassification.from_pretrained(\n",
        "#     model_checkpoint, num_labels=num_labels, id2label=id2label, label2id=label2id\n",
        "# )\n",
        "\n",
        "model = TFAutoModelForSequenceClassification.from_pretrained(\n",
        "    \"distilbert-base-uncased\", num_labels=3, id2label=id2label, label2id=label2id\n",
        ")"
      ]
    },
    {
      "cell_type": "markdown",
      "metadata": {
        "id": "CczA5lJlIrJX"
      },
      "source": [
        "The warning is telling us we are throwing away some weights (the `vocab_transform` and `vocab_layer_norm` layers) and randomly initializing some other (the `pre_classifier` and `classifier` layers). This is absolutely normal in this case, because we are removing the head used to pretrain the model on a masked language modeling objective and replacing it with a new head for which we don't have pretrained weights, so the library warns us we should fine-tune this model before using it for inference, which is exactly what we are going to do.\n",
        "\n",
        "Next, we convert our datasets to `tf.data.Dataset`, which Keras understands natively. There are two ways to do this - we can use the slightly more low-level [`Dataset.to_tf_dataset()`](https://huggingface.co/docs/datasets/package_reference/main_classes#datasets.Dataset.to_tf_dataset) method, or we can use [`Model.prepare_tf_dataset()`](https://huggingface.co/docs/transformers/main_classes/model#transformers.TFPreTrainedModel.prepare_tf_dataset). The main difference between these two is that the `Model` method can inspect the model to determine which column names it can use as input, which means you don't need to specify them yourself. Unless our samples are all the same length, we will also need to pass a `tokenizer` or `collate_fn` so that the `tf.data.Dataset` knows how to pad and combine samples into a batch."
      ]
    },
    {
      "cell_type": "code",
      "execution_count": 29,
      "metadata": {
        "id": "sB3CXY2mPh7_"
      },
      "outputs": [
        {
          "name": "stderr",
          "output_type": "stream",
          "text": [
            "You're using a DistilBertTokenizerFast tokenizer. Please note that with a fast tokenizer, using the `__call__` method is faster than using a method to encode the text followed by a call to the `pad` method to get a padded encoding.\n"
          ]
        }
      ],
      "source": [
        "validation_key = (\n",
        "    \"validation_mismatched\"\n",
        "    if task == \"mnli-mm\"\n",
        "    else \"validation_matched\"\n",
        "    if task == \"mnli\"\n",
        "    else \"validation\"\n",
        ")\n",
        "\n",
        "tf_train_dataset = model.prepare_tf_dataset(\n",
        "    encoded_dataset_train,\n",
        "    shuffle=True,\n",
        "    batch_size=16,\n",
        "    tokenizer=tokenizer\n",
        ")\n",
        "\n",
        "tf_validation_dataset = model.prepare_tf_dataset(\n",
        "    encoded_dataset_test,\n",
        "    shuffle=False,\n",
        "    batch_size=16,\n",
        "    tokenizer=tokenizer,\n",
        ")"
      ]
    },
    {
      "cell_type": "markdown",
      "metadata": {
        "id": "4Bj9pcpqPh7_"
      },
      "source": [
        "Next, we need to set up our optimizer and `compile()` our model. The `create_optimizer` function in the Transformers library creates a very useful `AdamW` optimizer with weight and learning rate decay. This performs very well for training most transformer networks - we recommend using it as your default unless you have a good reason not to! Note, however, that because it decays the learning rate over the course of training, it needs to know how many batches it will see during training.\n",
        "\n",
        "Note that all models in `transformers` can pick a sensible loss function by default. To use this loss, simply do not pass a `loss` argument to `compile()`. Although the losses for GLUE tasks are usually just simple cross-entropy, this can be very helpful in models when the loss is intricate and contains multiple terms.\n",
        "\n",
        "In some of our other examples, we use `jit_compile` to compile the model with [XLA](https://www.tensorflow.org/xla). In this case, we should be careful about that - because our inputs have variable sequence lengths, we may end up having to do a new XLA compilation for each possible length, because XLA compilation expects a static input shape! For small datasets, this will probably result in spending more time on XLA compilation than actually training, which isn't very helpful.\n",
        "\n",
        "If you really want to use XLA without these problems (for example, if you're training on TPU), you can create a tokenizer with `padding=\"max_length\"`. This will pad all of your samples to the same length, ensuring that a single XLA compilation will suffice for your entire dataset. Note that depending on the nature of your dataset, this may result in a lot of wasted computation on padding tokens!"
      ]
    },
    {
      "cell_type": "code",
      "execution_count": 30,
      "metadata": {
        "id": "XEbyoz7GPh7_",
        "outputId": "7be38974-6182-439a-abc3-b810ab7ce16c"
      },
      "outputs": [
        {
          "name": "stderr",
          "output_type": "stream",
          "text": [
            "No loss specified in compile() - the model's internal loss computation will be used as the loss. Don't panic - this is a common way to train TensorFlow models in Transformers! To disable this behaviour please pass a loss argument, or explicitly pass `loss=None` if you do not want your model to compute a loss.\n"
          ]
        }
      ],
      "source": [
        "from transformers import create_optimizer\n",
        "\n",
        "num_epochs = 3\n",
        "batches_per_epoch = len(encoded_dataset_train) // batch_size\n",
        "total_train_steps = int(batches_per_epoch * num_epochs)\n",
        "\n",
        "optimizer, schedule = create_optimizer(\n",
        "    init_lr=2e-5, num_warmup_steps=0, num_train_steps=total_train_steps\n",
        ")\n",
        "model.compile(optimizer=optimizer)"
      ]
    },
    {
      "cell_type": "markdown",
      "metadata": {
        "id": "7sZOdRlRIrJd"
      },
      "source": [
        "The last thing to define is how to compute the metrics from the predictions. We need to define a function for this, which will just use the `metric` we loaded earlier. The only preprocessing we have to do is to take the argmax of our predicted logits (our just squeeze the last axis in the case of STS-B).\n",
        "\n",
        "In addition, let's wrap this metric computation function in a `KerasMetricCallback`. This callback will compute the metric on the validation set each epoch, including printing it and logging it for other callbacks like `TensorBoard` and `EarlyStopping`.\n",
        "\n",
        "Why do it this way, though, and not just use a straightforward Keras Metric object? This is a good question - on this task, several of the metrics such as Accuracy are very straightforward, and it would probably make more sense to just use a Keras metric for those instead. However, we want to demonstrate the use of `KerasMetricCallback` here, because it can handle any arbitrary Python function for the metric computation. This turns out to be very important for other NLP tasks like summarization and translation, where standard metrics like `BLEU` and `ROUGE` are much more complex to compute, and often involve decoding tokens generated by the model to strings and comparing their similarity to target sentences. If you want to stop training once `ROUGE` scores on the validation set start to decline, then `KerasMetricCallback` is essential.\n",
        "\n",
        "That said, if you're only interested in tasks like text classification with straightforward metrics, then by all means remove the `KerasMetricCallback` and use a Keras `Accuracy` metric instead!"
      ]
    },
    {
      "cell_type": "markdown",
      "metadata": {
        "id": "e3kE3zJrPh8A"
      },
      "source": [
        "With that out of the way, how do we actually use `KerasMetricCallback`? It's straightfoward: We simply define a function that computes metrics given a tuple of numpy arrays of predictions and labels, then we pass that, along with the validation set to compute metrics on, to the callback:"
      ]
    },
    {
      "cell_type": "code",
      "execution_count": 31,
      "metadata": {
        "id": "UmvbnJ9JIrJd"
      },
      "outputs": [],
      "source": [
        "from transformers.keras_callbacks import KerasMetricCallback\n",
        "\n",
        "\n",
        "def compute_metrics(eval_predictions):\n",
        "    predictions, labels = eval_predictions\n",
        "    if task != \"stsb\":\n",
        "        predictions = np.argmax(predictions, axis=1)\n",
        "    else:\n",
        "        predictions = predictions[:, 0]\n",
        "    return metric.compute(predictions=predictions, references=labels)\n",
        "\n",
        "\n",
        "metric_callback = KerasMetricCallback(\n",
        "    metric_fn=compute_metrics, eval_dataset=tf_validation_dataset\n",
        ")"
      ]
    },
    {
      "cell_type": "markdown",
      "metadata": {
        "id": "VpQ8Wo0IPh8A"
      },
      "source": [
        "We can now finetune our model by just calling the `fit` method. Be sure to pass the TF datasets, and not the original datasets! We can also add a callback to sync up our model with the Hub - this allows us to resume training from other machines and even test the model's inference quality midway through training! Make sure to change the `username` if you do. If you don't want to do this, simply remove the callbacks argument in the call to `fit()`."
      ]
    },
    {
      "cell_type": "code",
      "execution_count": 32,
      "metadata": {
        "id": "imY1oC3SIrJf",
        "outputId": "75ee94bd-91ec-4300-88bb-a81fd0ff26ac"
      },
      "outputs": [
        {
          "name": "stdout",
          "output_type": "stream",
          "text": [
            "Epoch 1/3\n",
            "1956/7500 [======>.......................] - ETA: 128:05:30 - loss: 0.1322"
          ]
        },
        {
          "ename": "KeyboardInterrupt",
          "evalue": "",
          "output_type": "error",
          "traceback": [
            "\u001b[1;31m---------------------------------------------------------------------------\u001b[0m",
            "\u001b[1;31mKeyboardInterrupt\u001b[0m                         Traceback (most recent call last)",
            "Cell \u001b[1;32mIn [32], line 17\u001b[0m\n\u001b[0;32m      1\u001b[0m \u001b[38;5;66;03m# from transformers.keras_callbacks import PushToHubCallback\u001b[39;00m\n\u001b[0;32m      2\u001b[0m \u001b[38;5;66;03m# from tensorflow.keras.callbacks import TensorBoard\u001b[39;00m\n\u001b[0;32m      3\u001b[0m \n\u001b[1;32m   (...)\u001b[0m\n\u001b[0;32m     12\u001b[0m \u001b[38;5;66;03m#     hub_model_id=push_to_hub_model_id,\u001b[39;00m\n\u001b[0;32m     13\u001b[0m \u001b[38;5;66;03m# )\u001b[39;00m\n\u001b[0;32m     15\u001b[0m callbacks \u001b[38;5;241m=\u001b[39m [metric_callback]\n\u001b[1;32m---> 17\u001b[0m \u001b[43mmodel\u001b[49m\u001b[38;5;241;43m.\u001b[39;49m\u001b[43mfit\u001b[49m\u001b[43m(\u001b[49m\n\u001b[0;32m     18\u001b[0m \u001b[43m    \u001b[49m\u001b[43mtf_train_dataset\u001b[49m\u001b[43m,\u001b[49m\n\u001b[0;32m     19\u001b[0m \u001b[43m    \u001b[49m\u001b[43mvalidation_data\u001b[49m\u001b[38;5;241;43m=\u001b[39;49m\u001b[43mtf_validation_dataset\u001b[49m\u001b[43m,\u001b[49m\n\u001b[0;32m     20\u001b[0m \u001b[43m    \u001b[49m\u001b[43mepochs\u001b[49m\u001b[38;5;241;43m=\u001b[39;49m\u001b[43mnum_epochs\u001b[49m\u001b[43m,\u001b[49m\n\u001b[0;32m     21\u001b[0m \u001b[43m    \u001b[49m\u001b[43mcallbacks\u001b[49m\u001b[38;5;241;43m=\u001b[39;49m\u001b[43mcallbacks\u001b[49m\u001b[43m,\u001b[49m\n\u001b[0;32m     22\u001b[0m \u001b[43m)\u001b[49m\n",
            "File \u001b[1;32mc:\\Users\\ranax\\anaconda3\\envs\\bert_tf\\lib\\site-packages\\keras\\utils\\traceback_utils.py:65\u001b[0m, in \u001b[0;36mfilter_traceback.<locals>.error_handler\u001b[1;34m(*args, **kwargs)\u001b[0m\n\u001b[0;32m     63\u001b[0m filtered_tb \u001b[39m=\u001b[39m \u001b[39mNone\u001b[39;00m\n\u001b[0;32m     64\u001b[0m \u001b[39mtry\u001b[39;00m:\n\u001b[1;32m---> 65\u001b[0m     \u001b[39mreturn\u001b[39;00m fn(\u001b[39m*\u001b[39margs, \u001b[39m*\u001b[39m\u001b[39m*\u001b[39mkwargs)\n\u001b[0;32m     66\u001b[0m \u001b[39mexcept\u001b[39;00m \u001b[39mException\u001b[39;00m \u001b[39mas\u001b[39;00m e:\n\u001b[0;32m     67\u001b[0m     filtered_tb \u001b[39m=\u001b[39m _process_traceback_frames(e\u001b[39m.\u001b[39m__traceback__)\n",
            "File \u001b[1;32mc:\\Users\\ranax\\anaconda3\\envs\\bert_tf\\lib\\site-packages\\keras\\engine\\training.py:1564\u001b[0m, in \u001b[0;36mModel.fit\u001b[1;34m(self, x, y, batch_size, epochs, verbose, callbacks, validation_split, validation_data, shuffle, class_weight, sample_weight, initial_epoch, steps_per_epoch, validation_steps, validation_batch_size, validation_freq, max_queue_size, workers, use_multiprocessing)\u001b[0m\n\u001b[0;32m   1556\u001b[0m \u001b[39mwith\u001b[39;00m tf\u001b[39m.\u001b[39mprofiler\u001b[39m.\u001b[39mexperimental\u001b[39m.\u001b[39mTrace(\n\u001b[0;32m   1557\u001b[0m     \u001b[39m\"\u001b[39m\u001b[39mtrain\u001b[39m\u001b[39m\"\u001b[39m,\n\u001b[0;32m   1558\u001b[0m     epoch_num\u001b[39m=\u001b[39mepoch,\n\u001b[1;32m   (...)\u001b[0m\n\u001b[0;32m   1561\u001b[0m     _r\u001b[39m=\u001b[39m\u001b[39m1\u001b[39m,\n\u001b[0;32m   1562\u001b[0m ):\n\u001b[0;32m   1563\u001b[0m     callbacks\u001b[39m.\u001b[39mon_train_batch_begin(step)\n\u001b[1;32m-> 1564\u001b[0m     tmp_logs \u001b[39m=\u001b[39m \u001b[39mself\u001b[39;49m\u001b[39m.\u001b[39;49mtrain_function(iterator)\n\u001b[0;32m   1565\u001b[0m     \u001b[39mif\u001b[39;00m data_handler\u001b[39m.\u001b[39mshould_sync:\n\u001b[0;32m   1566\u001b[0m         context\u001b[39m.\u001b[39masync_wait()\n",
            "File \u001b[1;32mc:\\Users\\ranax\\anaconda3\\envs\\bert_tf\\lib\\site-packages\\tensorflow\\python\\util\\traceback_utils.py:150\u001b[0m, in \u001b[0;36mfilter_traceback.<locals>.error_handler\u001b[1;34m(*args, **kwargs)\u001b[0m\n\u001b[0;32m    148\u001b[0m filtered_tb \u001b[39m=\u001b[39m \u001b[39mNone\u001b[39;00m\n\u001b[0;32m    149\u001b[0m \u001b[39mtry\u001b[39;00m:\n\u001b[1;32m--> 150\u001b[0m   \u001b[39mreturn\u001b[39;00m fn(\u001b[39m*\u001b[39margs, \u001b[39m*\u001b[39m\u001b[39m*\u001b[39mkwargs)\n\u001b[0;32m    151\u001b[0m \u001b[39mexcept\u001b[39;00m \u001b[39mException\u001b[39;00m \u001b[39mas\u001b[39;00m e:\n\u001b[0;32m    152\u001b[0m   filtered_tb \u001b[39m=\u001b[39m _process_traceback_frames(e\u001b[39m.\u001b[39m__traceback__)\n",
            "File \u001b[1;32mc:\\Users\\ranax\\anaconda3\\envs\\bert_tf\\lib\\site-packages\\tensorflow\\python\\eager\\def_function.py:915\u001b[0m, in \u001b[0;36mFunction.__call__\u001b[1;34m(self, *args, **kwds)\u001b[0m\n\u001b[0;32m    912\u001b[0m compiler \u001b[39m=\u001b[39m \u001b[39m\"\u001b[39m\u001b[39mxla\u001b[39m\u001b[39m\"\u001b[39m \u001b[39mif\u001b[39;00m \u001b[39mself\u001b[39m\u001b[39m.\u001b[39m_jit_compile \u001b[39melse\u001b[39;00m \u001b[39m\"\u001b[39m\u001b[39mnonXla\u001b[39m\u001b[39m\"\u001b[39m\n\u001b[0;32m    914\u001b[0m \u001b[39mwith\u001b[39;00m OptionalXlaContext(\u001b[39mself\u001b[39m\u001b[39m.\u001b[39m_jit_compile):\n\u001b[1;32m--> 915\u001b[0m   result \u001b[39m=\u001b[39m \u001b[39mself\u001b[39m\u001b[39m.\u001b[39m_call(\u001b[39m*\u001b[39margs, \u001b[39m*\u001b[39m\u001b[39m*\u001b[39mkwds)\n\u001b[0;32m    917\u001b[0m new_tracing_count \u001b[39m=\u001b[39m \u001b[39mself\u001b[39m\u001b[39m.\u001b[39mexperimental_get_tracing_count()\n\u001b[0;32m    918\u001b[0m without_tracing \u001b[39m=\u001b[39m (tracing_count \u001b[39m==\u001b[39m new_tracing_count)\n",
            "File \u001b[1;32mc:\\Users\\ranax\\anaconda3\\envs\\bert_tf\\lib\\site-packages\\tensorflow\\python\\eager\\def_function.py:947\u001b[0m, in \u001b[0;36mFunction._call\u001b[1;34m(self, *args, **kwds)\u001b[0m\n\u001b[0;32m    944\u001b[0m   \u001b[39mself\u001b[39m\u001b[39m.\u001b[39m_lock\u001b[39m.\u001b[39mrelease()\n\u001b[0;32m    945\u001b[0m   \u001b[39m# In this case we have created variables on the first call, so we run the\u001b[39;00m\n\u001b[0;32m    946\u001b[0m   \u001b[39m# defunned version which is guaranteed to never create variables.\u001b[39;00m\n\u001b[1;32m--> 947\u001b[0m   \u001b[39mreturn\u001b[39;00m \u001b[39mself\u001b[39m\u001b[39m.\u001b[39m_stateless_fn(\u001b[39m*\u001b[39margs, \u001b[39m*\u001b[39m\u001b[39m*\u001b[39mkwds)  \u001b[39m# pylint: disable=not-callable\u001b[39;00m\n\u001b[0;32m    948\u001b[0m \u001b[39melif\u001b[39;00m \u001b[39mself\u001b[39m\u001b[39m.\u001b[39m_stateful_fn \u001b[39mis\u001b[39;00m \u001b[39mnot\u001b[39;00m \u001b[39mNone\u001b[39;00m:\n\u001b[0;32m    949\u001b[0m   \u001b[39m# Release the lock early so that multiple threads can perform the call\u001b[39;00m\n\u001b[0;32m    950\u001b[0m   \u001b[39m# in parallel.\u001b[39;00m\n\u001b[0;32m    951\u001b[0m   \u001b[39mself\u001b[39m\u001b[39m.\u001b[39m_lock\u001b[39m.\u001b[39mrelease()\n",
            "File \u001b[1;32mc:\\Users\\ranax\\anaconda3\\envs\\bert_tf\\lib\\site-packages\\tensorflow\\python\\eager\\function.py:2496\u001b[0m, in \u001b[0;36mFunction.__call__\u001b[1;34m(self, *args, **kwargs)\u001b[0m\n\u001b[0;32m   2493\u001b[0m \u001b[39mwith\u001b[39;00m \u001b[39mself\u001b[39m\u001b[39m.\u001b[39m_lock:\n\u001b[0;32m   2494\u001b[0m   (graph_function,\n\u001b[0;32m   2495\u001b[0m    filtered_flat_args) \u001b[39m=\u001b[39m \u001b[39mself\u001b[39m\u001b[39m.\u001b[39m_maybe_define_function(args, kwargs)\n\u001b[1;32m-> 2496\u001b[0m \u001b[39mreturn\u001b[39;00m graph_function\u001b[39m.\u001b[39;49m_call_flat(\n\u001b[0;32m   2497\u001b[0m     filtered_flat_args, captured_inputs\u001b[39m=\u001b[39;49mgraph_function\u001b[39m.\u001b[39;49mcaptured_inputs)\n",
            "File \u001b[1;32mc:\\Users\\ranax\\anaconda3\\envs\\bert_tf\\lib\\site-packages\\tensorflow\\python\\eager\\function.py:1862\u001b[0m, in \u001b[0;36mConcreteFunction._call_flat\u001b[1;34m(self, args, captured_inputs, cancellation_manager)\u001b[0m\n\u001b[0;32m   1858\u001b[0m possible_gradient_type \u001b[39m=\u001b[39m gradients_util\u001b[39m.\u001b[39mPossibleTapeGradientTypes(args)\n\u001b[0;32m   1859\u001b[0m \u001b[39mif\u001b[39;00m (possible_gradient_type \u001b[39m==\u001b[39m gradients_util\u001b[39m.\u001b[39mPOSSIBLE_GRADIENT_TYPES_NONE\n\u001b[0;32m   1860\u001b[0m     \u001b[39mand\u001b[39;00m executing_eagerly):\n\u001b[0;32m   1861\u001b[0m   \u001b[39m# No tape is watching; skip to running the function.\u001b[39;00m\n\u001b[1;32m-> 1862\u001b[0m   \u001b[39mreturn\u001b[39;00m \u001b[39mself\u001b[39m\u001b[39m.\u001b[39m_build_call_outputs(\u001b[39mself\u001b[39;49m\u001b[39m.\u001b[39;49m_inference_function\u001b[39m.\u001b[39;49mcall(\n\u001b[0;32m   1863\u001b[0m       ctx, args, cancellation_manager\u001b[39m=\u001b[39;49mcancellation_manager))\n\u001b[0;32m   1864\u001b[0m forward_backward \u001b[39m=\u001b[39m \u001b[39mself\u001b[39m\u001b[39m.\u001b[39m_select_forward_and_backward_functions(\n\u001b[0;32m   1865\u001b[0m     args,\n\u001b[0;32m   1866\u001b[0m     possible_gradient_type,\n\u001b[0;32m   1867\u001b[0m     executing_eagerly)\n\u001b[0;32m   1868\u001b[0m forward_function, args_with_tangents \u001b[39m=\u001b[39m forward_backward\u001b[39m.\u001b[39mforward()\n",
            "File \u001b[1;32mc:\\Users\\ranax\\anaconda3\\envs\\bert_tf\\lib\\site-packages\\tensorflow\\python\\eager\\function.py:499\u001b[0m, in \u001b[0;36m_EagerDefinedFunction.call\u001b[1;34m(self, ctx, args, cancellation_manager)\u001b[0m\n\u001b[0;32m    497\u001b[0m \u001b[39mwith\u001b[39;00m _InterpolateFunctionError(\u001b[39mself\u001b[39m):\n\u001b[0;32m    498\u001b[0m   \u001b[39mif\u001b[39;00m cancellation_manager \u001b[39mis\u001b[39;00m \u001b[39mNone\u001b[39;00m:\n\u001b[1;32m--> 499\u001b[0m     outputs \u001b[39m=\u001b[39m execute\u001b[39m.\u001b[39;49mexecute(\n\u001b[0;32m    500\u001b[0m         \u001b[39mstr\u001b[39;49m(\u001b[39mself\u001b[39;49m\u001b[39m.\u001b[39;49msignature\u001b[39m.\u001b[39;49mname),\n\u001b[0;32m    501\u001b[0m         num_outputs\u001b[39m=\u001b[39;49m\u001b[39mself\u001b[39;49m\u001b[39m.\u001b[39;49m_num_outputs,\n\u001b[0;32m    502\u001b[0m         inputs\u001b[39m=\u001b[39;49margs,\n\u001b[0;32m    503\u001b[0m         attrs\u001b[39m=\u001b[39;49mattrs,\n\u001b[0;32m    504\u001b[0m         ctx\u001b[39m=\u001b[39;49mctx)\n\u001b[0;32m    505\u001b[0m   \u001b[39melse\u001b[39;00m:\n\u001b[0;32m    506\u001b[0m     outputs \u001b[39m=\u001b[39m execute\u001b[39m.\u001b[39mexecute_with_cancellation(\n\u001b[0;32m    507\u001b[0m         \u001b[39mstr\u001b[39m(\u001b[39mself\u001b[39m\u001b[39m.\u001b[39msignature\u001b[39m.\u001b[39mname),\n\u001b[0;32m    508\u001b[0m         num_outputs\u001b[39m=\u001b[39m\u001b[39mself\u001b[39m\u001b[39m.\u001b[39m_num_outputs,\n\u001b[1;32m   (...)\u001b[0m\n\u001b[0;32m    511\u001b[0m         ctx\u001b[39m=\u001b[39mctx,\n\u001b[0;32m    512\u001b[0m         cancellation_manager\u001b[39m=\u001b[39mcancellation_manager)\n",
            "File \u001b[1;32mc:\\Users\\ranax\\anaconda3\\envs\\bert_tf\\lib\\site-packages\\tensorflow\\python\\eager\\execute.py:54\u001b[0m, in \u001b[0;36mquick_execute\u001b[1;34m(op_name, num_outputs, inputs, attrs, ctx, name)\u001b[0m\n\u001b[0;32m     52\u001b[0m \u001b[39mtry\u001b[39;00m:\n\u001b[0;32m     53\u001b[0m   ctx\u001b[39m.\u001b[39mensure_initialized()\n\u001b[1;32m---> 54\u001b[0m   tensors \u001b[39m=\u001b[39m pywrap_tfe\u001b[39m.\u001b[39;49mTFE_Py_Execute(ctx\u001b[39m.\u001b[39;49m_handle, device_name, op_name,\n\u001b[0;32m     55\u001b[0m                                       inputs, attrs, num_outputs)\n\u001b[0;32m     56\u001b[0m \u001b[39mexcept\u001b[39;00m core\u001b[39m.\u001b[39m_NotOkStatusException \u001b[39mas\u001b[39;00m e:\n\u001b[0;32m     57\u001b[0m   \u001b[39mif\u001b[39;00m name \u001b[39mis\u001b[39;00m \u001b[39mnot\u001b[39;00m \u001b[39mNone\u001b[39;00m:\n",
            "\u001b[1;31mKeyboardInterrupt\u001b[0m: "
          ]
        }
      ],
      "source": [
        "# from transformers.keras_callbacks import PushToHubCallback\n",
        "# from tensorflow.keras.callbacks import TensorBoard\n",
        "\n",
        "# model_name = model_checkpoint.split(\"/\")[-1]\n",
        "# push_to_hub_model_id = f\"{model_name}-finetuned-{task}\"\n",
        "\n",
        "# tensorboard_callback = TensorBoard(log_dir=\"./text_classification_model_save/logs\")\n",
        "\n",
        "# push_to_hub_callback = PushToHubCallback(\n",
        "#     output_dir=\"./text_classification_model_save\",\n",
        "#     tokenizer=tokenizer,\n",
        "#     hub_model_id=push_to_hub_model_id,\n",
        "# )\n",
        "\n",
        "callbacks = [metric_callback]\n",
        "\n",
        "model.fit(\n",
        "    tf_train_dataset,\n",
        "    validation_data=tf_validation_dataset,\n",
        "    epochs=num_epochs,\n",
        "    callbacks=callbacks,\n",
        ")"
      ]
    },
    {
      "cell_type": "markdown",
      "metadata": {
        "id": "ffP-VQOyIrJk"
      },
      "source": [
        "To see how your model fared you can compare it to the [GLUE Benchmark leaderboard](https://gluebenchmark.com/leaderboard)."
      ]
    },
    {
      "cell_type": "markdown",
      "metadata": {
        "id": "7ER-ssrNPh8C"
      },
      "source": [
        "If you used the callback above, you can now share this model with all your friends, family or favorite pets: they can all load it with the identifier `\"your-username/the-name-you-picked\"` so for instance:\n",
        "\n",
        "```python\n",
        "from transformers import TFAutoModelForSequenceClassification\n",
        "\n",
        "model = TFAutoModelForSequenceClassification.from_pretrained(\"your-username/my-awesome-model\")\n",
        "```"
      ]
    },
    {
      "cell_type": "markdown",
      "metadata": {
        "id": "nsGkv23oPh8C"
      },
      "source": [
        "## Inference"
      ]
    },
    {
      "cell_type": "markdown",
      "metadata": {
        "id": "dhW_pg7-Ph8C"
      },
      "source": [
        "Training a model is fun, but once it's trained you usually want to use it to get predictions on new data. Let's take a look at how to do that. Firstly, we'll load our trained model from the hub - this lets us resume the code from here without needing to rerun all the training above every time."
      ]
    },
    {
      "cell_type": "code",
      "execution_count": null,
      "metadata": {
        "id": "5Me9xhQxPh8C",
        "outputId": "ce6fa54f-6579-4680-c47b-83962d617237"
      },
      "outputs": [
        {
          "data": {
            "application/vnd.jupyter.widget-view+json": {
              "model_id": "ea7b1c0e8ad54c07a129f331d40cb7fe",
              "version_major": 2,
              "version_minor": 0
            },
            "text/plain": [
              "Downloading config.json:   0%|          | 0.00/655 [00:00<?, ?B/s]"
            ]
          },
          "metadata": {},
          "output_type": "display_data"
        },
        {
          "data": {
            "application/vnd.jupyter.widget-view+json": {
              "model_id": "2905d84172924fdc843beea6b65753d5",
              "version_major": 2,
              "version_minor": 0
            },
            "text/plain": [
              "Downloading tf_model.h5:   0%|          | 0.00/256M [00:00<?, ?B/s]"
            ]
          },
          "metadata": {},
          "output_type": "display_data"
        },
        {
          "name": "stderr",
          "output_type": "stream",
          "text": [
            "Some layers from the model checkpoint at Rocketknight1/distilbert-base-uncased-finetuned-cola were not used when initializing TFDistilBertForSequenceClassification: ['dropout_19']\n",
            "- This IS expected if you are initializing TFDistilBertForSequenceClassification from the checkpoint of a model trained on another task or with another architecture (e.g. initializing a BertForSequenceClassification model from a BertForPreTraining model).\n",
            "- This IS NOT expected if you are initializing TFDistilBertForSequenceClassification from the checkpoint of a model that you expect to be exactly identical (initializing a BertForSequenceClassification model from a BertForSequenceClassification model).\n",
            "Some layers of TFDistilBertForSequenceClassification were not initialized from the model checkpoint at Rocketknight1/distilbert-base-uncased-finetuned-cola and are newly initialized: ['dropout_39']\n",
            "You should probably TRAIN this model on a down-stream task to be able to use it for predictions and inference.\n"
          ]
        }
      ],
      "source": [
        "from transformers import AutoTokenizer, TFAutoModelForSequenceClassification\n",
        "\n",
        "# You can, of course, use your own username and model name here once you've pushed your model using the code above!\n",
        "model = TFAutoModelForSequenceClassification.from_pretrained(\"Rocketknight1/distilbert-base-uncased-finetuned-cola\")\n",
        "tokenizer = AutoTokenizer.from_pretrained(\"Rocketknight1/distilbert-base-uncased-finetuned-cola\")"
      ]
    },
    {
      "cell_type": "markdown",
      "metadata": {
        "id": "e3Hxi1qbPh8D"
      },
      "source": [
        "Now, let's make up some sentences and see if the model can classify them properly! The first sentence is valid English, but the second one makes a grammatical mistake."
      ]
    },
    {
      "cell_type": "code",
      "execution_count": null,
      "metadata": {
        "id": "IE-cSsCGPh8D"
      },
      "outputs": [],
      "source": [
        "sentences = [\n",
        "    \"The judge told the jurors to think carefully.\",\n",
        "    \"The judge told that the jurors to think carefully.\"\n",
        "]"
      ]
    },
    {
      "cell_type": "markdown",
      "metadata": {
        "id": "cTxqCdEHPh8D"
      },
      "source": [
        "To feed them into our model, we'll need to tokenize them and then get our model's predictions:"
      ]
    },
    {
      "cell_type": "code",
      "execution_count": null,
      "metadata": {
        "id": "jWXk-fsQPh8D",
        "outputId": "1931ed68-5408-415b-9419-2fcf49c90d4e"
      },
      "outputs": [
        {
          "name": "stdout",
          "output_type": "stream",
          "text": [
            "[1 0]\n"
          ]
        }
      ],
      "source": [
        "tokenized = tokenizer(sentences, return_tensors=\"np\", padding=\"longest\")\n",
        "\n",
        "outputs = model(tokenized).logits\n",
        "\n",
        "classifications = np.argmax(outputs, axis=1)\n",
        "print(classifications)"
      ]
    },
    {
      "cell_type": "markdown",
      "metadata": {
        "id": "8vBRfhRePh8D"
      },
      "source": [
        "What do those label values mean? Let's use the `id2label` property set on our model to make them a little more comprehensible:"
      ]
    },
    {
      "cell_type": "code",
      "execution_count": null,
      "metadata": {
        "id": "jz0TqE0XPh8D",
        "outputId": "b8699bb9-47b3-4f17-816a-27cb784f7b74"
      },
      "outputs": [
        {
          "name": "stdout",
          "output_type": "stream",
          "text": [
            "['Valid', 'Invalid']\n"
          ]
        }
      ],
      "source": [
        "classifications = [model.config.id2label[output] for output in classifications]\n",
        "print(classifications)"
      ]
    },
    {
      "cell_type": "markdown",
      "metadata": {
        "id": "1FRdS1rFPh8D"
      },
      "source": [
        "Looks right to me!"
      ]
    },
    {
      "cell_type": "markdown",
      "metadata": {
        "id": "esBjQxwLPh8D"
      },
      "source": [
        "## Pipeline API"
      ]
    },
    {
      "cell_type": "markdown",
      "metadata": {
        "id": "wagx_j6DPh8E"
      },
      "source": [
        "An alternative way to quickly perform inference with any model on the hub is to use the [Pipeline API](https://huggingface.co/docs/transformers/main_classes/pipelines), which abstracts away all the steps we did manually above. It will perform the preprocessing, forward pass and postprocessing all in a single object.\n",
        "\n",
        "Let's showcase this for our trained model:"
      ]
    },
    {
      "cell_type": "code",
      "execution_count": null,
      "metadata": {
        "id": "KUnUMnIePh8E",
        "outputId": "274e62ac-ff96-40ae-cdf3-78c61d4e3aa8"
      },
      "outputs": [
        {
          "name": "stderr",
          "output_type": "stream",
          "text": [
            "Some layers from the model checkpoint at Rocketknight1/distilbert-base-uncased-finetuned-cola were not used when initializing TFDistilBertForSequenceClassification: ['dropout_19']\n",
            "- This IS expected if you are initializing TFDistilBertForSequenceClassification from the checkpoint of a model trained on another task or with another architecture (e.g. initializing a BertForSequenceClassification model from a BertForPreTraining model).\n",
            "- This IS NOT expected if you are initializing TFDistilBertForSequenceClassification from the checkpoint of a model that you expect to be exactly identical (initializing a BertForSequenceClassification model from a BertForSequenceClassification model).\n",
            "Some layers of TFDistilBertForSequenceClassification were not initialized from the model checkpoint at Rocketknight1/distilbert-base-uncased-finetuned-cola and are newly initialized: ['dropout_59']\n",
            "You should probably TRAIN this model on a down-stream task to be able to use it for predictions and inference.\n"
          ]
        }
      ],
      "source": [
        "from transformers import pipeline\n",
        "\n",
        "classifier = pipeline(\"text-classification\", \"Rocketknight1/distilbert-base-uncased-finetuned-cola\", framework=\"tf\")"
      ]
    },
    {
      "cell_type": "code",
      "execution_count": null,
      "metadata": {
        "id": "JNhLndJdPh8E",
        "outputId": "1901e9ef-985a-40cb-fe93-ed916d15ad7b"
      },
      "outputs": [
        {
          "data": {
            "text/plain": [
              "[{'label': 'Valid', 'score': 0.9861387610435486},\n",
              " {'label': 'Invalid', 'score': 0.8175984025001526}]"
            ]
          },
          "execution_count": 30,
          "metadata": {},
          "output_type": "execute_result"
        }
      ],
      "source": [
        "classifier(sentences)"
      ]
    },
    {
      "cell_type": "markdown",
      "metadata": {
        "id": "biiN8WdTPh8E"
      },
      "source": [
        "And that's it - the code above is all you need to get classifications from your model in future! Note how the `id2label` property we set during training is automatically read by our pipeline to assign sensible names to the output classes."
      ]
    },
    {
      "cell_type": "code",
      "execution_count": null,
      "metadata": {
        "id": "3Q9TVhRQPh8E"
      },
      "outputs": [],
      "source": []
    }
  ],
  "metadata": {
    "colab": {
      "name": "Text Classification on GLUE",
      "provenance": []
    },
    "kernelspec": {
      "display_name": "Python 3.10.4 ('bert_tf')",
      "language": "python",
      "name": "python3"
    },
    "language_info": {
      "codemirror_mode": {
        "name": "ipython",
        "version": 3
      },
      "file_extension": ".py",
      "mimetype": "text/x-python",
      "name": "python",
      "nbconvert_exporter": "python",
      "pygments_lexer": "ipython3",
      "version": "3.10.4"
    },
    "vscode": {
      "interpreter": {
        "hash": "dead31cd02953542d1ca77a02ea341265493c7882b78a6f7525e641154a9481e"
      }
    }
  },
  "nbformat": 4,
  "nbformat_minor": 0
}
