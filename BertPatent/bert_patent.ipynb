{
 "cells": [
  {
   "cell_type": "code",
   "execution_count": 45,
   "metadata": {},
   "outputs": [
    {
     "data": {
      "text/plain": [
       "True"
      ]
     },
     "execution_count": 45,
     "metadata": {},
     "output_type": "execute_result"
    }
   ],
   "source": [
    "import torch\n",
    "torch.cuda.is_available()"
   ]
  },
  {
   "cell_type": "code",
   "execution_count": 46,
   "metadata": {},
   "outputs": [
    {
     "name": "stderr",
     "output_type": "stream",
     "text": [
      "Using custom data configuration default-f8e75d5baeb9fcf2\n",
      "Reusing dataset csv (C:\\Users\\ranax\\.cache\\huggingface\\datasets\\csv\\default-f8e75d5baeb9fcf2\\0.0.0\\652c3096f041ee27b04d2232d41f10547a8fecda3e284a79a0ec4053c916ef7a)\n"
     ]
    },
    {
     "data": {
      "application/vnd.jupyter.widget-view+json": {
       "model_id": "2a7af2c214f1412d92d07b03ca8cabba",
       "version_major": 2,
       "version_minor": 0
      },
      "text/plain": [
       "  0%|          | 0/1 [00:00<?, ?it/s]"
      ]
     },
     "metadata": {},
     "output_type": "display_data"
    }
   ],
   "source": [
    "from datasets import load_dataset\n",
    "paragraph_data = load_dataset(\"csv\", data_files=\"C:/Study/Master Thesis/expaai_model/tmp/cleaned_data_150k.csv\")\n",
    "# paragraph_data[\"train\"][0]"
   ]
  },
  {
   "cell_type": "code",
   "execution_count": 47,
   "metadata": {},
   "outputs": [
    {
     "name": "stderr",
     "output_type": "stream",
     "text": [
      "Loading cached shuffled indices for dataset at C:\\Users\\ranax\\.cache\\huggingface\\datasets\\csv\\default-f8e75d5baeb9fcf2\\0.0.0\\652c3096f041ee27b04d2232d41f10547a8fecda3e284a79a0ec4053c916ef7a\\cache-20ca3d8cf98e8599.arrow\n"
     ]
    }
   ],
   "source": [
    "paragraph_data_randomized = paragraph_data[\"train\"].shuffle(seed=42)\n",
    "paragraph_data_randomized_rows = paragraph_data.num_rows['train']\n",
    "train_end = round(paragraph_data_randomized_rows * 0.67)\n",
    "\n",
    "paragraph_train_dataset = paragraph_data_randomized.select([i for i in list(range(train_end))])\n",
    "paragraph_test_dataset = paragraph_data_randomized.select([i for i in list(range(train_end, paragraph_data_randomized_rows))])\n",
    "\n",
    "# paragraph_train_dataset\n",
    "# paragraph_test_dataset"
   ]
  }
 ],
 "metadata": {
  "kernelspec": {
   "display_name": "Python 3.10.4 ('bert_env')",
   "language": "python",
   "name": "python3"
  },
  "language_info": {
   "codemirror_mode": {
    "name": "ipython",
    "version": 3
   },
   "file_extension": ".py",
   "mimetype": "text/x-python",
   "name": "python",
   "nbconvert_exporter": "python",
   "pygments_lexer": "ipython3",
   "version": "3.10.4"
  },
  "orig_nbformat": 4,
  "vscode": {
   "interpreter": {
    "hash": "4655d434983e15677638913597445993328257199604ecd9512c80288112199c"
   }
  }
 },
 "nbformat": 4,
 "nbformat_minor": 2
}
